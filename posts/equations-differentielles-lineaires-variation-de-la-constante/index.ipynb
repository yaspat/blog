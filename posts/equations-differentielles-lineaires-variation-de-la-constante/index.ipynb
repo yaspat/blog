{
 "cells": [
  {
   "cell_type": "markdown",
   "metadata": {},
   "source": [
    "La méthode de la variation de la constante sert à **trouver une solution particulière** à une équation différentielle **linéaire du premier ordre**  après avoir calculé les solutions de l'équation homogène associée. Elle se termine **toujours** par un calcul de primitives.\n",
    "\n",
    "<!--TEASER_END-->"
   ]
  },
  {
   "cell_type": "markdown",
   "metadata": {},
   "source": [
    "# La méthode avec un exemple\n",
    "\n",
    "![](http://yaspat.github.io/blog/galleries/Cookbook/EDO.png)\n",
    "![](http://yaspat.github.io/blog/galleries/Cookbook/EDO2.png)"
   ]
  },
  {
   "cell_type": "markdown",
   "metadata": {},
   "source": [
    "# À vous de jouer"
   ]
  },
  {
   "cell_type": "markdown",
   "metadata": {},
   "source": [
    "Résoudre les équations différentielles suivantes sur l'intervalle $I$ donné :\n",
    "\n",
    "1. $I = \\mathbf{R} \\quad y'-2xy = x$\n",
    "2. $I= ]-1;+\\infty[ \\quad y'+\\dfrac{x}{x+1} y = x+1$\n",
    "3. $I= \\mathbf{R}  \\quad y'-y = x^{k}e^{x}$, où $k$ est un entier naturel fixé."
   ]
  }
 ],
 "metadata": {
  "hide_input": false,
  "kernelspec": {
   "display_name": "Python 3",
   "language": "python",
   "name": "python3"
  },
  "latex_envs": {
   "LaTeX_envs_menu_present": true,
   "autocomplete": true,
   "bibliofile": "biblio.bib",
   "cite_by": "apalike",
   "current_citInitial": 1,
   "eqLabelWithNumbers": true,
   "eqNumInitial": 1,
   "hotkeys": {
    "equation": "ctrl-c,ctrl-e"
   },
   "labels_anchors": false,
   "latex_user_defs": false,
   "report_style_numbering": false,
   "user_envs_cfg": false
  },
  "toc": {
   "colors": {
    "hover_highlight": "#DAA520",
    "navigate_num": "#000000",
    "navigate_text": "#333333",
    "running_highlight": "#FF0000",
    "selected_highlight": "#FFD700",
    "sidebar_border": "#EEEEEE",
    "wrapper_background": "#FFFFFF"
   },
   "moveMenuLeft": true,
   "nav_menu": {
    "height": "48px",
    "width": "252px"
   },
   "navigate_menu": true,
   "number_sections": true,
   "sideBar": true,
   "threshold": 4,
   "toc_cell": false,
   "toc_section_display": "block",
   "toc_window_display": false,
   "widenNotebook": false
  }
 },
 "nbformat": 4,
 "nbformat_minor": 2
}
