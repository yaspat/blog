{
 "cells": [
  {
   "cell_type": "markdown",
   "metadata": {},
   "source": [
    "# C'est quoi les maths ?"
   ]
  },
  {
   "cell_type": "code",
   "execution_count": 6,
   "metadata": {
    "collapsed": false
   },
   "outputs": [
    {
     "name": "stdout",
     "output_type": "stream",
     "text": [
      "1\n",
      "0\n",
      "1\n",
      "4\n",
      "9\n",
      "16\n",
      "25\n",
      "36\n",
      "49\n",
      "64\n",
      "81\n",
      "100\n"
     ]
    }
   ],
   "source": [
    "import numpy as np\n",
    "x = 6 \n",
    "if x == 3 or x>4 :\n",
    "    for j in range(0,12):\n",
    "        print j**2-2*j+1"
   ]
  },
  {
   "cell_type": "code",
   "execution_count": 6,
   "metadata": {
    "collapsed": false
   },
   "outputs": [
    {
     "data": {
      "text/plain": [
       "0.0"
      ]
     },
     "execution_count": 6,
     "metadata": {},
     "output_type": "execute_result"
    }
   ],
   "source": [
    "0/0.1"
   ]
  },
  {
   "cell_type": "code",
   "execution_count": 1,
   "metadata": {
    "collapsed": false
   },
   "outputs": [
    {
     "data": {
      "text/plain": [
       "2"
      ]
     },
     "execution_count": 1,
     "metadata": {},
     "output_type": "execute_result"
    }
   ],
   "source": [
    "1+1"
   ]
  },
  {
   "cell_type": "markdown",
   "metadata": {},
   "source": [
    "Voilà la vérité, accrochez-vous, ça va vous faire un choc :\n",
    "\n",
    "**Mathématique :** c'est la  science des objets et de leurs relations.\n",
    "En tant que telle, la mathématique s'est fixé comme programme d'analyser les relations (dans leur sens le plus général) entre objets, quelle que soit la nature de ces derniers (matériels ou non, revêtus d'une réalité  biologique ou non). \n",
    "\n",
    "<!-- TEASER_END -->\n",
    "\n",
    "**Conséquence :** (fâcheuse ?) la mathématique possède un aspect formel et vise à établir des énoncés généraux. C'est pourquoi elles sont abstraites, bien qu'elles s'appuient au départ de  l'investigation d'observations concrètes. À tel point que dans son effort de classification, elle *finit inévitablement par se détacher de la nature matérielle des objets* puisqu'elle classifie par *invariants*\n",
    "\n"
   ]
  },
  {
   "cell_type": "markdown",
   "metadata": {},
   "source": [
    "**Méthodologie :** \n",
    "\n",
    "1. Pour établir ces énoncés généraux, il faut développer un *langage* précis et rigoureux. \n",
    "2. Un langage possède :\n",
    "\n",
    "    * son *vocabulaire* : termes ayant un sens précis. Vous ne pouvez donc pas remplacer un terme par un autre.\n",
    "    \n",
    "    * sa *syntaxe* : règles permettant d'arranger les termes pour former des énoncés qui ont un sens."
   ]
  },
  {
   "cell_type": "markdown",
   "metadata": {},
   "source": [
    "## Ensembles"
   ]
  },
  {
   "cell_type": "markdown",
   "metadata": {},
   "source": [
    "* Pour traiter simultanément d'objets, il faut les regrouper dans une entité abstraite qu'on appelle *ensemble*. "
   ]
  },
  {
   "cell_type": "markdown",
   "metadata": {},
   "source": [
    "* Pour définir un ensemble,  on *écrit* la liste de ses éléments entre accolades comme ceci par exemple :\n",
    "\n",
    "$$ \\{8,4, \\text{la chaise bleue}, 13\\}$$\n",
    "\n",
    "Ce qui siginifie : c'est l'ensemble constitué de 4 objets, et  qui sont : \n",
    "\n",
    "1. Le nombre $8$,\n",
    "2. Le nombre $4$,\n",
    "3. La chaise bleue (on considère implicitement que l'on sait parfaitement de quelle chaise il s' agit),\n",
    "4. Du nombre $13$.\n",
    "\n",
    "Maintenant, je vais vous montrer un ensemble dans la vraie vie : je vais fabriquer un ensemble concret. Pour cela j'utilise `python` avec lequel on peut construire des ensembles, en utilisant la même syntaxe qu'en maths."
   ]
  },
  {
   "cell_type": "code",
   "execution_count": 12,
   "metadata": {
    "collapsed": false,
    "scrolled": true
   },
   "outputs": [
    {
     "data": {
      "text/plain": [
       "{4, 8, 13, 'la chaise bleue'}"
      ]
     },
     "execution_count": 12,
     "metadata": {},
     "output_type": "execute_result"
    }
   ],
   "source": [
    "{8 , 4, 'la chaise bleue',13 } # ceci est l'ordre que je donne à Python : fabrique l'ensemble constitué de bla,bla..."
   ]
  },
  {
   "cell_type": "markdown",
   "metadata": {},
   "source": [
    "Dans le bloc `[Out]`, `Python` a éxécuté mon ordre et m'a montré le produit de son travail. Maintenant, on pourra manipuler cet ensemble, c'est-à-dire opérer dessus.\n",
    "\n",
    "**Remarque.** Vous constatez que j'ai donné les objets dans un certain ordre, et que `python` les a mis\n",
    "dans un autre ordre. En effet, ** Dans un ensemble, l'ordre des objets ne compte pas**."
   ]
  },
  {
   "cell_type": "markdown",
   "metadata": {},
   "source": [
    "On peut d'ailleurs   vérifier  cela en demandant à `python`  : prenons deux ensembles dans lesquels les éléments sont les mêmes, mais présentés dans un autre ordre, et demandons-lui si ce sont les mêmes ensembles  :"
   ]
  },
  {
   "cell_type": "code",
   "execution_count": 14,
   "metadata": {
    "collapsed": false
   },
   "outputs": [
    {
     "data": {
      "text/plain": [
       "True"
      ]
     },
     "execution_count": 14,
     "metadata": {},
     "output_type": "execute_result"
    }
   ],
   "source": [
    "{1 ,2, 3} == {1,3,2} # Ceci signifie : est-ce que ces deux ensembles sont égaux ?"
   ]
  },
  {
   "cell_type": "markdown",
   "metadata": {},
   "source": [
    "Ce qui signifie : \" il est vrai que ces deux ensembles sont les mêmes. \""
   ]
  }
 ],
 "metadata": {
  "kernelspec": {
   "display_name": "Python 2",
   "language": "python",
   "name": "python2"
  },
  "language_info": {
   "codemirror_mode": {
    "name": "ipython",
    "version": 2
   },
   "file_extension": ".py",
   "mimetype": "text/x-python",
   "name": "python",
   "nbconvert_exporter": "python",
   "pygments_lexer": "ipython2",
   "version": "2.7.6"
  },
  "nikola": {
   "category": "",
   "date": "2015-08-12 22:37:31 UTC+02:00",
   "description": "",
   "link": "",
   "slug": "ensembles-variables-quantificateurs-langage-de-base",
   "tags": "variables, ensembles, quantificateurs",
   "title": "Ensembles, variables, quantificateurs : langage de base",
   "type": "text"
  }
 },
 "nbformat": 4,
 "nbformat_minor": 0
}
