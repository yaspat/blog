{
 "cells": [
  {
   "cell_type": "markdown",
   "metadata": {},
   "source": [
    "Un thème des plus récurrents en analyse, à l'écrit comme à l'oral, est celui du calcul intégral.\n",
    "En effet, il intervient notamment :\n",
    "\n",
    "1. Dans la résolutions d'équations différentielles.\n",
    "2. Dans le calcul des probabilités.\n",
    "\n",
    "Il est donc important de maîtriser ce thème, à commencer par savoir effectuer un changement de variables.\n",
    "\n",
    "<!--teaser_end-->\n",
    "\n",
    "\n"
   ]
  },
  {
   "cell_type": "markdown",
   "metadata": {},
   "source": [
    "# La méthode avec un exemple\n",
    "\n",
    "![](http://yaspat.github.io/blog/galleries/Cookbook/1.png)"
   ]
  },
  {
   "cell_type": "markdown",
   "metadata": {},
   "source": [
    "[voir la méthode](https://github.com/yaspat/blog/blob/gh-pages/images/Cookbook-IntegralesEDO.png)\n",
    "\n",
    "# S'entraîner"
   ]
  },
  {
   "cell_type": "markdown",
   "metadata": {},
   "source": [
    "Transformer par changement de variables :\n",
    "\n",
    "1. $I_1 = \\displaystyle \\int_{0}^{1}  \\ln\\left(3+5t\\right)\\text{d}t$.\n",
    "2. $I_2 = \\displaystyle \\int_{\\frac{\\pi}{4}}^{\\frac{\\pi}{2}}  \\dfrac{1}{\\tan{t}}\\text{d}t$  (On se ramènera à une intégrale sur le segment $[0,1]$ par un changement de variables affine).\n",
    "3. (*cas général du calcul précédent*) Soit $f$ une fonction continue sur un segment $[a,b].$ Transformer $J =\\displaystyle \\int_{a}^{b} f(t)\\text d t $ en se ramenant une intégrale sur le segment $[0,1]$.\n",
    "3. $I_3  = \\displaystyle \\int_{\\ln \\frac{\\pi}{4}} ^{\\ln \\frac{\\pi}{3}} \\dfrac{2}{e^t+e^{-t}}\\text{d}t$.  On posera $u = e^{t}$. (*Réponse  : $2\\left(\\sqrt{3}-1\\right)$*)"
   ]
  },
  {
   "cell_type": "markdown",
   "metadata": {},
   "source": [
    "Bon courage ! Vous pouvez toujours poser une question dans les commentaires du billet."
   ]
  }
 ],
 "metadata": {
  "kernelspec": {
   "display_name": "Python 3",
   "language": "python",
   "name": "python3"
  },
  "language_info": {
   "codemirror_mode": {
    "name": "ipython",
    "version": 3
   },
   "file_extension": ".py",
   "mimetype": "text/x-python",
   "name": "python",
   "nbconvert_exporter": "python",
   "pygments_lexer": "ipython3",
   "version": "3.6.3"
  },
  "latex_envs": {
   "LaTeX_envs_menu_present": true,
   "autocomplete": true,
   "bibliofile": "biblio.bib",
   "cite_by": "apalike",
   "current_citInitial": 1,
   "eqLabelWithNumbers": true,
   "eqNumInitial": 1,
   "hotkeys": {
    "equation": "ctrl-c,ctrl-c"
   },
   "labels_anchors": false,
   "latex_user_defs": false,
   "report_style_numbering": false,
   "user_envs_cfg": true
  }
 },
 "nbformat": 4,
 "nbformat_minor": 2
}
