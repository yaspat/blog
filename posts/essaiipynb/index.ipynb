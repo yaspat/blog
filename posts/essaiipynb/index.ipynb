{
 "cells": [
  {
   "cell_type": "markdown",
   "metadata": {},
   "source": [
    "Est-ce que les métadonnées apparaissent ? Write your post here."
   ]
  },
  {
   "cell_type": "code",
   "execution_count": null,
   "metadata": {
    "collapsed": true
   },
   "outputs": [],
   "source": []
  }
 ],
 "metadata": {
  "kernelspec": {
   "display_name": "Python 2",
   "language": "python",
   "name": "python2"
  },
  "language_info": {
   "codemirror_mode": {
    "name": "ipython",
    "version": 2
   },
   "file_extension": ".py",
   "mimetype": "text/x-python",
   "name": "python",
   "nbconvert_exporter": "python",
   "pygments_lexer": "ipython2",
   "version": "2.7.10"
  },
  "nikola": {
   "category": "",
   "date": "2015-10-01 21:40:03 UTC+02:00",
   "description": "",
   "link": "",
   "slug": "essaiipynb",
   "tags": "draft, tag1, tag2, tagoule",
   "title": "essaiipynb",
   "type": "text"
  }
 },
 "nbformat": 4,
 "nbformat_minor": 0
}
