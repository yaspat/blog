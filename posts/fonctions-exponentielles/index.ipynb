{
 "cells": [
  {
   "cell_type": "markdown",
   "metadata": {},
   "source": [
    "Il n'y a pas qu'une seule fonction exponentielle, mais plusieurs. Elles sont caractérisées par un paramètre réel $a>0$ que l'on appelle **base** de l'exponentielle, on parle alors d'**exponentielle de base** $\\mathbf{a}$. Ben oui. Dingue. Mais c'est comme ça.\n",
    "\n",
    "<!-- TEASER_END -->"
   ]
  },
  {
   "cell_type": "code",
   "execution_count": 1,
   "metadata": {
    "collapsed": false
   },
   "outputs": [
    {
     "ename": "ImportError",
     "evalue": "No module named sympy",
     "output_type": "error",
     "traceback": [
      "\u001b[0;31m---------------------------------------------------------------------------\u001b[0m",
      "\u001b[0;31mImportError\u001b[0m                               Traceback (most recent call last)",
      "\u001b[0;32m<ipython-input-1-9e11f0e94da6>\u001b[0m in \u001b[0;36m<module>\u001b[0;34m()\u001b[0m\n\u001b[1;32m      8\u001b[0m \u001b[0;32mfrom\u001b[0m \u001b[0mIPython\u001b[0m\u001b[0;34m.\u001b[0m\u001b[0mdisplay\u001b[0m \u001b[0;32mimport\u001b[0m \u001b[0mdisplay\u001b[0m\u001b[0;34m,\u001b[0m \u001b[0mAudio\u001b[0m\u001b[0;34m,\u001b[0m \u001b[0mclear_output\u001b[0m\u001b[0;34m\u001b[0m\u001b[0m\n\u001b[1;32m      9\u001b[0m \u001b[0;34m\u001b[0m\u001b[0m\n\u001b[0;32m---> 10\u001b[0;31m \u001b[0;32mfrom\u001b[0m \u001b[0msympy\u001b[0m \u001b[0;32mimport\u001b[0m \u001b[0mSymbol\u001b[0m\u001b[0;34m,\u001b[0m \u001b[0mEq\u001b[0m\u001b[0;34m,\u001b[0m \u001b[0mfactor\u001b[0m\u001b[0;34m,\u001b[0m \u001b[0minit_printing\u001b[0m\u001b[0;34m\u001b[0m\u001b[0m\n\u001b[0m\u001b[1;32m     11\u001b[0m \u001b[0minit_printing\u001b[0m\u001b[0;34m(\u001b[0m\u001b[0muse_latex\u001b[0m\u001b[0;34m=\u001b[0m\u001b[0;34m'mathjax'\u001b[0m\u001b[0;34m)\u001b[0m\u001b[0;34m\u001b[0m\u001b[0m\n",
      "\u001b[0;31mImportError\u001b[0m: No module named sympy"
     ]
    }
   ],
   "source": [
    "%matplotlib inline\n",
    "import scipy\n",
    "import matplotlib.pyplot as plt\n",
    "import numpy as np\n",
    "\n",
    "\n",
    "\n",
    "from IPython.display import display, Audio, clear_output\n",
    "\n",
    "from sympy import Symbol, Eq, factor, init_printing\n",
    "init_printing(use_latex='mathjax')"
   ]
  },
  {
   "cell_type": "markdown",
   "metadata": {},
   "source": [
    "Traçons alors les fonctions exponentielles de base a, a étant un réel strictement positif : "
   ]
  },
  {
   "cell_type": "code",
   "execution_count": 4,
   "metadata": {
    "collapsed": true
   },
   "outputs": [],
   "source": [
    "def tracer_expo(a):\n",
    "    fig, ax = plt.subplots(figsize=(4, 3),\n",
    "                           subplot_kw={'axisbg':'#EEEEEE',\n",
    "                                       'axisbelow':True})\n",
    "    ax.grid(color='w', linewidth=2, linestyle='solid')\n",
    "    x = np.linspace(-3, 3, 1000)\n",
    "    ax.plot(x, a**x,lw=3, alpha=0.4)\n",
    "    ax.set_xlim(-3, 3)\n",
    "    ax.set_ylim(0, 10)\n",
    "    \n",
    "    #x = np.linspace(-3,3)\n",
    "    #y = a**x\n",
    "    #plt.xlim(-3,3)\n",
    "    #plt.ylim(0,10)\n",
    "    #plt.grid('on')\n",
    "    plt.title(r'fonction $x\\mapsto a^x$  $a=$'+str(a))\n",
    "    plt.arrow(0,1,0.5,scipy.log(a)/2,head_width=0.1, head_length=0.3, fc='r', ec='r')\n",
    "    plt.arrow(0,1,-0.5,-scipy.log(a)/2.,head_width=0.1, head_length=0.3, fc='r', ec='r')\n",
    "    plt.arrow(0,0,0,9,head_width=0.1, head_length=0.3, fc='k', ec='k')\n",
    "    #plt.plot(x,y)\n",
    "    return fig "
   ]
  },
  {
   "cell_type": "markdown",
   "metadata": {},
   "source": [
    "Fabrication du widget interactif créé par *jake vdp* utilisable sur un blog statique  (prend du temps à générer toutes les images) :"
   ]
  },
  {
   "cell_type": "code",
   "execution_count": 6,
   "metadata": {
    "collapsed": false
   },
   "outputs": [
    {
     "ename": "ImportError",
     "evalue": "No module named ipywidgets",
     "output_type": "error",
     "traceback": [
      "\u001b[0;31m---------------------------------------------------------------------------\u001b[0m",
      "\u001b[0;31mImportError\u001b[0m                               Traceback (most recent call last)",
      "\u001b[0;32m<ipython-input-6-8ad0d2311579>\u001b[0m in \u001b[0;36m<module>\u001b[0;34m()\u001b[0m\n\u001b[0;32m----> 1\u001b[0;31m \u001b[0;32mfrom\u001b[0m \u001b[0mipywidgets\u001b[0m \u001b[0;32mimport\u001b[0m \u001b[0mStaticInteract\u001b[0m\u001b[0;34m,\u001b[0m \u001b[0mRangeWidget\u001b[0m\u001b[0;34m,\u001b[0m \u001b[0mRadioWidget\u001b[0m\u001b[0;34m\u001b[0m\u001b[0m\n\u001b[0m\u001b[1;32m      2\u001b[0m \u001b[0mStaticInteract\u001b[0m\u001b[0;34m(\u001b[0m\u001b[0mtracer_expo\u001b[0m\u001b[0;34m,\u001b[0m\u001b[0ma\u001b[0m\u001b[0;34m=\u001b[0m\u001b[0mRangeWidget\u001b[0m\u001b[0;34m(\u001b[0m\u001b[0;36m0.7\u001b[0m\u001b[0;34m,\u001b[0m \u001b[0;36m5.\u001b[0m\u001b[0;34m,\u001b[0m \u001b[0;36m0.7\u001b[0m\u001b[0;34m)\u001b[0m\u001b[0;34m)\u001b[0m\u001b[0;34m\u001b[0m\u001b[0m\n",
      "\u001b[0;31mImportError\u001b[0m: No module named ipywidgets"
     ]
    }
   ],
   "source": [
    "from ipywidgets import StaticInteract, RangeWidget, RadioWidget\n",
    "StaticInteract(tracer_expo,a=RangeWidget(0.7, 5., 0.7))"
   ]
  },
  {
   "cell_type": "markdown",
   "metadata": {},
   "source": [
    "Avec le widget importé en natif (qui donne une image si exporté en `html`/`static`):"
   ]
  },
  {
   "cell_type": "code",
   "execution_count": 7,
   "metadata": {
    "collapsed": true
   },
   "outputs": [],
   "source": [
    "def tracer_expo(a):\n",
    "    x = np.linspace(-3,3)\n",
    "    y = a**x\n",
    "    plt.xlim(-3,3)\n",
    "    plt.ylim(0,10)\n",
    "    plt.grid('on')\n",
    "    plt.title(r'fonction $x\\mapsto a^x$  $a=$'+str(a))\n",
    "    plt.arrow(0,1,0.5,scipy.log(a)/2,head_width=0.1, head_length=0.3, fc='r', ec='r')\n",
    "    plt.arrow(0,1,-0.5,-scipy.log(a)/2.,head_width=0.1, head_length=0.3, fc='r', ec='r')\n",
    "    plt.arrow(0,0,0,9,head_width=0.1, head_length=0.3, fc='k', ec='k')\n",
    "    plt.plot(x,y)"
   ]
  },
  {
   "cell_type": "code",
   "execution_count": 8,
   "metadata": {
    "collapsed": false
   },
   "outputs": [
    {
     "name": "stderr",
     "output_type": "stream",
     "text": [
      ":0: FutureWarning: IPython widgets are experimental and may change in the future.\n"
     ]
    }
   ],
   "source": [
    "from IPython.html.widgets import interact"
   ]
  },
  {
   "cell_type": "code",
   "execution_count": 9,
   "metadata": {
    "collapsed": false
   },
   "outputs": [
    {
     "data": {
      "image/png": "[encoded data removed]",
      "text/plain": [
       "<matplotlib.figure.Figure at 0x10f24d850>"
      ]
     },
     "metadata": {},
     "output_type": "display_data"
    }
   ],
   "source": [
    "interact(tracer_expo, a=(0.71818,5,0.1));"
   ]
  },
  {
   "cell_type": "code",
   "execution_count": 1,
   "metadata": {
    "collapsed": true
   },
   "outputs": [],
   "source": [
    "import JSAnimation"
   ]
  },
  {
   "cell_type": "code",
   "execution_count": 3,
   "metadata": {
    "collapsed": false
   },
   "outputs": [
    {
     "name": "stdout",
     "output_type": "stream",
     "text": [
      "Populating the interactive namespace from numpy and matplotlib\n"
     ]
    }
   ],
   "source": [
    "%pylab inline"
   ]
  },
  {
   "cell_type": "code",
   "execution_count": 13,
   "metadata": {
    "collapsed": false
   },
   "outputs": [
    {
     "data": {
      "text/html": [
       "\n",
       "<script language=\"javascript\">\n",
       "  /* Define the Animation class */\n",
       "  function Animation(frames, img_id, slider_id, interval, loop_select_id){\n",
       "    this.img_id = img_id;\n",
       "    this.slider_id = slider_id;\n",
       "    this.loop_select_id = loop_select_id;\n",
       "    this.interval = interval;\n",
       "    this.current_frame = 0;\n",
       "    this.direction = 0;\n",
       "    this.timer = null;\n",
       "    this.frames = new Array(frames.length);\n",
       "\n",
       "    for (var i=0; i<frames.length; i++)\n",
       "    {\n",
       "     this.frames[i] = new Image();\n",
       "     this.frames[i].src = frames[i];\n",
       "    }\n",
       "    document.getElementById(this.slider_id).max = this.frames.length - 1;\n",
       "    this.set_frame(this.current_frame);\n",
       "  }\n",
       "\n",
       "  Animation.prototype.get_loop_state = function(){\n",
       "    var button_group = document[this.loop_select_id].state;\n",
       "    for (var i = 0; i < button_group.length; i++) {\n",
       "        var button = button_group[i];\n",
       "        if (button.checked) {\n",
       "            return button.value;\n",
       "        }\n",
       "    }\n",
       "    return undefined;\n",
       "  }\n",
       "\n",
       "  Animation.prototype.set_frame = function(frame){\n",
       "    this.current_frame = frame;\n",
       "    document.getElementById(this.img_id).src = this.frames[this.current_frame].src;\n",
       "    document.getElementById(this.slider_id).value = this.current_frame;\n",
       "  }\n",
       "\n",
       "  Animation.prototype.next_frame = function()\n",
       "  {\n",
       "    this.set_frame(Math.min(this.frames.length - 1, this.current_frame + 1));\n",
       "  }\n",
       "\n",
       "  Animation.prototype.previous_frame = function()\n",
       "  {\n",
       "    this.set_frame(Math.max(0, this.current_frame - 1));\n",
       "  }\n",
       "\n",
       "  Animation.prototype.first_frame = function()\n",
       "  {\n",
       "    this.set_frame(0);\n",
       "  }\n",
       "\n",
       "  Animation.prototype.last_frame = function()\n",
       "  {\n",
       "    this.set_frame(this.frames.length - 1);\n",
       "  }\n",
       "\n",
       "  Animation.prototype.slower = function()\n",
       "  {\n",
       "    this.interval /= 0.7;\n",
       "    if(this.direction > 0){this.play_animation();}\n",
       "    else if(this.direction < 0){this.reverse_animation();}\n",
       "  }\n",
       "\n",
       "  Animation.prototype.faster = function()\n",
       "  {\n",
       "    this.interval *= 0.7;\n",
       "    if(this.direction > 0){this.play_animation();}\n",
       "    else if(this.direction < 0){this.reverse_animation();}\n",
       "  }\n",
       "\n",
       "  Animation.prototype.anim_step_forward = function()\n",
       "  {\n",
       "    this.current_frame += 1;\n",
       "    if(this.current_frame < this.frames.length){\n",
       "      this.set_frame(this.current_frame);\n",
       "    }else{\n",
       "      var loop_state = this.get_loop_state();\n",
       "      if(loop_state == \"loop\"){\n",
       "        this.first_frame();\n",
       "      }else if(loop_state == \"reflect\"){\n",
       "        this.last_frame();\n",
       "        this.reverse_animation();\n",
       "      }else{\n",
       "        this.pause_animation();\n",
       "        this.last_frame();\n",
       "      }\n",
       "    }\n",
       "  }\n",
       "\n",
       "  Animation.prototype.anim_step_reverse = function()\n",
       "  {\n",
       "    this.current_frame -= 1;\n",
       "    if(this.current_frame >= 0){\n",
       "      this.set_frame(this.current_frame);\n",
       "    }else{\n",
       "      var loop_state = this.get_loop_state();\n",
       "      if(loop_state == \"loop\"){\n",
       "        this.last_frame();\n",
       "      }else if(loop_state == \"reflect\"){\n",
       "        this.first_frame();\n",
       "        this.play_animation();\n",
       "      }else{\n",
       "        this.pause_animation();\n",
       "        this.first_frame();\n",
       "      }\n",
       "    }\n",
       "  }\n",
       "\n",
       "  Animation.prototype.pause_animation = function()\n",
       "  {\n",
       "    this.direction = 0;\n",
       "    if (this.timer){\n",
       "      clearInterval(this.timer);\n",
       "      this.timer = null;\n",
       "    }\n",
       "  }\n",
       "\n",
       "  Animation.prototype.play_animation = function()\n",
       "  {\n",
       "    this.pause_animation();\n",
       "    this.direction = 1;\n",
       "    var t = this;\n",
       "    if (!this.timer) this.timer = setInterval(function(){t.anim_step_forward();}, this.interval);\n",
       "  }\n",
       "\n",
       "  Animation.prototype.reverse_animation = function()\n",
       "  {\n",
       "    this.pause_animation();\n",
       "    this.direction = -1;\n",
       "    var t = this;\n",
       "    if (!this.timer) this.timer = setInterval(function(){t.anim_step_reverse();}, this.interval);\n",
       "  }\n",
       "</script>\n",
       "\n",
       "<div class=\"animation\" align=\"center\">\n",
       "    <img id=\"_anim_imgQACJPPYPVFTKYATS\">\n",
       "    <br>\n",
       "    <input id=\"_anim_sliderQACJPPYPVFTKYATS\" type=\"range\" style=\"width:350px\" name=\"points\" min=\"0\" max=\"1\" step=\"1\" value=\"0\" onchange=\"animQACJPPYPVFTKYATS.set_frame(parseInt(this.value));\"></input>\n",
       "    <br>\n",
       "    <button onclick=\"animQACJPPYPVFTKYATS.slower()\">&#8211;</button>\n",
       "    <button onclick=\"animQACJPPYPVFTKYATS.first_frame()\"><img class=\"anim_icon\" src=\"data:image/png;base64,iVBORw0KGgoAAAANSUhEUgAAABQAAAAUCAQAAAAngNWGAAAAAXNSR0IArs4c6QAAAAJiS0dEAP+Hj8y/AAAACXBIWXMAAAsTAAALEwEAmpwYAAAAB3RJTUUH3QURCAgaeZk4EQAAASlJREFUKM/dkj9LQnEUhp9zr3bpj1uBcKGiJWxzLWivKAIRjIhcCqcgqJbKRagPICiVSVEuNTu0tLYGUg4tkRGUdxLJ0u79Ndxr5FfwTO/L+xzO4XCgO+v2T70AFU+/A/Dhmlzg6Pr0DKAMwOH4zQxAAbAkv2xNeF2RoQUVc1ytgttXUbWVdN1dOPE8pz4j4APQsdFtKA0WY6vpKjqvVciHnvZTS6Ja4HgggJLs7MHxl9nCh8NYcO+iGG0agiaC4h9oa6Vsw2yiK+QHSZT934YoEQABNBcTNDszsrhm1m1B+bFS86PT6QFppx6oeSaeOwlMXRp1h4aK13Y2kuHhUo9ykPboPvFjeEvsrhTMt3ylHyB0r8KZyYdCrbfj4OveoHMANjuyx+76rV+/blxKMZUnLgAAAABJRU5ErkJggg==\"></button>\n",
       "    <button onclick=\"animQACJPPYPVFTKYATS.previous_frame()\"><img class=\"anim_icon\" src=\"data:image/png;base64,iVBORw0KGgoAAAANSUhEUgAAABQAAAAUCAQAAAAngNWGAAAAAXNSR0IArs4c6QAAAAJiS0dEAP+Hj8y/AAAACXBIWXMAAAsTAAALEwEAmpwYAAAAB3RJTUUH3QURCAgyTCyQ6wAAANRJREFUKM9jYBjO4AiUfgzFGGAp4+yayUvX6jMwMDCsYmBgOCS4OAOrSYmMgcc8/pd5Q3irC+Neh/1AlmeBMVgZmP8yMLD8/c/cqv9r90whzv/MX7Eq/MfAwMDIwCuZdfSV8U8WDgZGRmYGrAoZGRgY/jO8b3sj/J2F6T8j4z80pzEhmIwMjAxsSbqqlkeZGP//Z8SlkJnhPwMjwx/Guoe1NhmRwk+YGH5jV8jOwMPHzcDBysAwh8FrxQwtPU99HrwBXsnAwMDAsJiBgYGBoZ1xmKYqALHhMpn1o7igAAAAAElFTkSuQmCC\"></button>\n",
       "    <button onclick=\"animQACJPPYPVFTKYATS.reverse_animation()\"><img class=\"anim_icon\" src=\"data:image/png;base64,iVBORw0KGgoAAAANSUhEUgAAABQAAAAUCAQAAAAngNWGAAAAAXNSR0IArs4c6QAAAAJiS0dEAP+Hj8y/AAAACXBIWXMAAAsTAAALEwEAmpwYAAAAB3RJTUUH3QURCAgmVvZElgAAAVFJREFUKM+t0k8ow3EYx/H3s/2aLDUSZctFkgsHEi1XLi5ukpPSWsuJklwclsPSsDKFi7MSJ0I5qF2GHO2m0FY7+BdNv7Y9DpuxDSt5vsfvq+fT9/k+8D8VBxIAWH6H0ead4Qb5BRwCENoceZi5Stl/6BgCBmtWhjzxg4mUQ02rAhil7JgB9tze7aTLxFAKsUUd14B9ZzCyFUk401gQyQJaDNcBHwv7t7ETd0ZVQFEEzcNCdE/1wtj15imGWlEB8qkf2QaAWjbG/bPSamIDyX65/iwDIFx7tWjUvWCoSo5oGbYATN7PORt7W9IZEQXJH8ohuN7C0VVX91KNqYhq4a1lEGJI0j892tazXCWQRUpwAbYDcHczPxXuajq3mbnhfANz5eOJxsuNvs7+jud0UcuyL3QAkuEMx4rnIvBYq1JhEwPAUb3fG7x8tVdc292/7Po7f2VqA+Yz7ZwAAAAASUVORK5CYII=\"></button>\n",
       "    <button onclick=\"animQACJPPYPVFTKYATS.pause_animation()\"><img class=\"anim_icon\" src=\"data:image/png;base64,iVBORw0KGgoAAAANSUhEUgAAABQAAAAUCAQAAAAngNWGAAAAAXNSR0IArs4c6QAAAAJiS0dEAP+Hj8y/AAAACXBIWXMAAAsTAAALEwEAmpwYAAAAB3RJTUUH3QURCAkR91DQ2AAAAKtJREFUKM9jYCANTEVib2K4jcRbzQihGWEC00JuNjN8Z2Q0Zo3VYWA4lL005venH9+c3ZK5IfIsMIXMBtc12Bj+MMgxMDAwMPzWe2TBzPCf4SLcZCYY4/9/RgZGBiaYFf8gljFhKiQERhUOeoX/Gf8y/GX4y/APmlj+Mfxj+MfwH64Qnnq0zr9fyfLrPzP3eQYGBobvk5x4GX4xMIij23gdib0cRWYHiVmAAQDK5ircshCbHQAAAABJRU5ErkJggg==\"></button>\n",
       "    <button onclick=\"animQACJPPYPVFTKYATS.play_animation()\"><img class=\"anim_icon\" src=\"data:image/png;base64,iVBORw0KGgoAAAANSUhEUgAAABQAAAAUCAQAAAAngNWGAAAAAXNSR0IArs4c6QAAAAJiS0dEAP+Hj8y/AAAACXBIWXMAAAsTAAALEwEAmpwYAAAAB3RJTUUH3QURCAkEmo00MwAAAS9JREFUKM+tkj1IQmEUhp9j94LQj0FD4RRBLdLQ3ftb26PRcCiQIIiIDFwKC0OhaAiam5wVDBpqCKohQojMLYzaAiUatOtpuQrKVQl64fu+4Xt4OLwc+Fs+nNM16jsPAWS6gZXggoZfXmfhog3hcZ6aTXF87Sp68OmH4/YggAo8bmfyyeh6Z1AAKPVldyO1+Iz2uILq3AriJSe3l+H7aj+cuRnrTsVDxSxay+VYbMDnCtZxxQOU9G4nlU9E1HQBxRkCQMRGRnIbpxMARkvxCIoAorYMMrq0mJ0qu4COUW3xyVDqJC4P+86P0ewDQbQqgevhlc2C8ETApXAEFLzvwa3EXG9BoIE1GQUbv1h7k4fTXxBu6cKgUbX5M3ZzNC+a7rQ936HV56SlRpcle+Mf8wvgJ16zo/4BtQAAAABJRU5ErkJggg==\"></button>\n",
       "    <button onclick=\"animQACJPPYPVFTKYATS.next_frame()\"><img class=\"anim_icon\" src=\"data:image/png;base64,iVBORw0KGgoAAAANSUhEUgAAABQAAAAUCAQAAAAngNWGAAAAAXNSR0IArs4c6QAAAAJiS0dEAP+Hj8y/AAAACXBIWXMAAAsTAAALEwEAmpwYAAAAB3RJTUUH3QURCAkd/uac8wAAAMhJREFUKM9jYBie4DEUQ8B+fEq3+3UrMzAwMFxjYGBgYJizYubaOUxYFUaXh/6vWfRfEMIL/+//P5gZJoei4/f/7wxnY1PeNUXdE2RgYGZgYoCrY2BBVsjKwMDAwvCS4f3SG/dXxm5gYESSQ1HIwvCPgZmB8f8Pxv+Kxxb/YfiPJIdi9T8GJgaG/38ZFd4Fx0xUYsZt4h8GBgb2D2bLy7KnMTAwMEIxFoVCXIYr1IoDnkF4XAysqNIwUMDAwMDAsADKS2NkGL4AAIARMlfNIfZMAAAAAElFTkSuQmCC\"></button>\n",
       "    <button onclick=\"animQACJPPYPVFTKYATS.last_frame()\"><img class=\"anim_icon\" src=\"data:image/png;base64,iVBORw0KGgoAAAANSUhEUgAAABQAAAAUCAQAAAAngNWGAAAAAXNSR0IArs4c6QAAAAJiS0dEAP+Hj8y/AAAACXBIWXMAAAsTAAALEwEAmpwYAAAAB3RJTUUH3QURCAknOOpFQQAAAS9JREFUKM/dkrEvQ3EQxz/33mtoQxiYpANbLU26NAabSCcSUouGBVNDjYQaOiDpIEiKjURIw2Kx04hEYmkHEpGoJpSISaXq9Wd4P03/ht5y98197/u9XA4aK4rAWw3lgWddZ3S+/G9mEovtAB8AHE4pgTQAx8PbJweRmsq6GimmNpxaNYXVzMNNCI6A2figimwCGACK786zuWgh3qcsKf/w0pM4X0m/doNVFVzVGlEQsdRj193VxEWpH0RsdRu+zi3tVMqCAsDShoiYqiSV4OouVDFEqS9Pbiyg7vV62lpQ2BJ4Gg0meg0MbNpkYG/e+540NNFyrE1a8qHk5BaAjfnrzUaHfAWImVrLIXbgnx4/9X06s35cweWsVACa3a24PVp0X+rPv1aHFnSONdiL8Qci0lzwpOM5sQAAAABJRU5ErkJggg==\"></button>\n",
       "    <button onclick=\"animQACJPPYPVFTKYATS.faster()\">+</button>\n",
       "  <form action=\"#n\" name=\"_anim_loop_selectQACJPPYPVFTKYATS\" class=\"anim_control\">\n",
       "    <input type=\"radio\" name=\"state\" value=\"once\" > Once </input>\n",
       "    <input type=\"radio\" name=\"state\" value=\"loop\" checked> Loop </input>\n",
       "    <input type=\"radio\" name=\"state\" value=\"reflect\" > Reflect </input>\n",
       "  </form>\n",
       "</div>\n",
       "\n",
       "\n",
       "<script language=\"javascript\">\n",
       "  /* Instantiate the Animation class. */\n",
       "  /* The IDs given should match those used in the template above. */\n",
       "  (function() {\n",
       "    var img_id = \"_anim_imgQACJPPYPVFTKYATS\";\n",
       "    var slider_id = \"_anim_sliderQACJPPYPVFTKYATS\";\n",
       "    var loop_select_id = \"_anim_loop_selectQACJPPYPVFTKYATS\";\n",
       "    var frames = new Array(0);\n",
       "    \n",
       "  frames[0] = \"data:image/png;base64,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\"\n",
       "  frames[1] = \"data:image/png;base64,iVBORw0KGgoAAAANSUhEUgAAAbAAAAEgCAYAAADVKCZpAAAABHNCSVQICAgIfAhkiAAAAAlwSFlzAAALEgAACxIB0t1+/AAAHGpJREFUeJzt3Xl4VFWexvG3QoBGENlBExRZIknYAtiIM2K5sDTzoDTgAioMgvYojorIaM9MK7YtoOAALu30g0pLi6KODiBGBJfggojKIgrdoB0wAQMCsoQtIZz544ygpCoESOrWr/L9PE89hNyb5Fd165733nNvnRNyzjkBAGBMUtAFAABwMggwAIBJBBgAwCQCDABgEgEGADCJAAMAmESAAQBMIsAAACYRYAAAkwgwAIBJBBgAwCQCDABgEgEGADCJAAMAmESAAQBMIsAAACYRYAAAkwgwAIBJBBgAwCQCDABgEgEGADCJAAMAmESAAQBMIsAAACYRYAAAkwgwAIBJBBgAwCQCDABgUnLQBVSWUCgUdAkAYJJzLugSyiWhz8Ccczyc0/333x94DfHy4LXgteC1KPthSUIHGAAgcRFgAACTCLAqIBwOB11C3OC1OIrX4iheC5tCzlqnZzmFQiFz/bkAEDRLbSdnYAAAkwgwAIBJBBgAwCQCDABgEgEGADCJAAMAmESAAQBMIsAAACYRYAAAkwgwAIBJBBgAwCTTAVZSUqKsrCz169cv6FIAADFmOsCmTZumjIwMZl8GgCrIbIDl5+crOztbI0eONDNyMgCg4pgNsNGjR2vSpElKSjL7FAAAp8Bk6z9//nw1adJEWVlZnH0BQBWVHHQBJ2PJkiWaN2+esrOzdeDAAe3evVtDhw7VzJkzf7beuHHjjnwdDoeZdRUAjpGTk6OcnJygyzgp5mdkXrx4sSZPnqzXX3/9Z9+3NKsoAMQLS22nyS7EY3EXIgBUPebPwKKxdBQBAPHCUtuZEGdgAICqhwADAJhEgAEATCLAAAAmEWAAAJMIMACASQQYAMAkAgwAYBIBBgAwiQADAJhEgAEATCLAAAAmEWAAAJMIMACASQQYAMAkAgwAYBIBBgAwiQADAJhEgAEATCLAAAAmEWAAAJMIMACASQQYAMAkAgwAYBIBBgAwiQADAJhEgAEATCLAAAAmEWAAAJMIMACASQQYAMAkAgwAYBIBBgAwiQADAJhEgAEATCLAAAAmmQywvLw8XXLJJcrMzFS7du302GOPBV0SACDGQs45F3QRJ6qgoEAFBQXq1KmTCgsL1aVLF82ZM0fp6elH1gmFQjL41AAgUJbaTpNnYM2aNVOnTp0kSXXq1FF6ero2b94ccFUAgFgyGWA/tWHDBq1YsULdunULuhQAQAyZDrDCwkINGjRI06ZNU506dYIuBwAQQ8lBF3CyiouLNXDgQF1//fXq379/xHXGjRt35OtwOKxwOByb4gDAiJycHOXk5ARdxkkxeROHc07Dhg1Tw4YNNWXKlIjrWLoQCQDxwlLbaTLAPvzwQ/Xo0UMdOnRQKBSSJE2YMEF9+vQ5so6ljQAA8cJS22kywMrD0kYAgHhhqe00fRMHAKDqIsAAACYRYAAAkwgwAIBJBBgAwCQCDABgEgEGADCJAAMAmESAAQBMIsAAACYRYAAAkwgwAIBJBBgAwCQCDABgEgEGADCJAAMAmJQcdAFVnXNSfr60erX0979L334rbdwobdki7d4t7dkjFRb6dZOTpWrVpNq1pcaN/aNJE6lVKyktTWrTxn+dzFZFFbRnj9+P/va3o/tRfr60c6dftmePVFzs94/kZKlGDalhw6P70tln+/3ox0fdukE/IxwPMzLH2N690pIlUk6O/3fVKumHHyru99eqJXXuLP3yl9IFF0iXXio1alRxvx+IB4cPS19+6fej99+XVqzwB4AV6bzzpG7d/L508cVSZqYUClXs34hH8dp2RkKAxcC6ddL//q/0+uvSJ59Ihw7F7m+HQlKXLlLv3lLfvj7Ukug4hkG7dklvvCHNmSO98460Y0ds/35KitSrl9Snj/SrX0mnnx7bvx8r8dR2Hg8BVkm++UaaOVP6n/+R1qwJrIxSmjeXrr5auuYaqWvXqnFECbsKC/0+9OKL0nvv+S7AePCLX0j/9E/Stdf6f2vVCrqiihN023kiCLAKVFgovfKKNGOG9MEH5f+52rWlDh2k9HSpRQvfF5+SItWr5/vh69Tx6x065B+7d0vbtknffy9t2iStX+/P8tau9dfOyqttW+nmm6Vhw6QGDU7oqQKVxjnpo4/8fvTyy0evAR9PUpK/dtW+vdSypXTOOf6ArVEjf7ZUp46/7lVS4vej/fuP7kdbtviDzvXr/TW0det8HeVx+unSDTdIv/mN34+tI8DiQCw3wsaN0hNPSNOn+26O42ndWgqHfb/6BRf4na0iuvV+vCHk00+ljz/23SwrVhz/52rWlK66SrrzTt/dCAThwAFp1ixp6lR/fet4zjhD6tHD70cXXeSDq6LOhPbskT7/XFq2TFq82F9r27fv+D/Xvbt0yy2+h6NGjYqpJdYIsDgQi42wbJk0ebL02mv+qC6a5GQfWP37S/36+TOsWNmyRVq0yF9/mz//+DvhpZdK//Zvvq+f7kXEwtat0pNPSk895c+GypKWJv3619KVV/qbK6pVi02NBw9KH34ovfmm79LcuLHs9VNTpdGjpZtusnetjACLA5W5ET7+WHrgAemtt8pe7x/+QRo+XBowQKpfv1JKOSF79/oQmz3b/1vWzSQdOki/+52vnZs+UBm2bpUmTfLhtX9/9PXOOksaOtR302VkxK6+aJzzN2O99JL0wgv+eURTv740apQPMyvd9ARYHKiMjbBkiQ+uhQujr9OokTRypA+utLQK/fMVqqDAX2OYPl3KzY2+XlaW9OCD/g5GzshQEbZu9T0XTz4ZvUegWjXfY3Hjjb43IF4/21hUJM2dK/3pT77LPpozzpDuvlu64474PyOzFGByCaoin9pf/+rclVc654+9Ij/atXPu6aed27+/wv5sTJSUOPfGG86Fw2U/v27dnHv33aCrhWWFhc498IBztWtHf5+dcYZzd9/t3MaNQVd74v72N+duu825WrWiP7/GjZ37r/+K73bCUizYqfQEVcRG2LrVuVGjnKtWLfobskcP5xYudO7w4QooOmDLljl31VXOJSVFf75XXuncunVBVwpLDh1y7tlnnTvrrOjvqzPPdG7KFOd27w662lO3datz993nXIMG0Z/vOec49/LL8dluEGBx4FQ2wv79zk2c6FzdutHfgBdf7Nx771VYuXFl7Vrnrrkm+nOvXt25MWOc++GHoCtFvHv7bec6dSo7uKZNc27fvqArrXh79vh2pH79sg+Aly8PutKfI8DiwMluhLfecq516+hvuAsuSNzgOtbKlc5dcUX016JRI+f++799NyTwU3l5zg0aVPZ7Z8qUxAyuY+3c6dzvfudcnTqRX4tQyLmRI50rKAi6Uo8AiwMnuhGOt8O1bBm/p/yV7eOPnevevezrYytWBF0l4kFRkXOTJkW/zlWzpnP33OMb9apm61bn7rjDueTk6Nf/4uGAkACLA+XdCMfb4erX9xddDxyo5ILj3OHDzr34onPNm0d+nZKSnBs9OjGuYeDkvP++c5mZ0Q90Bg92Ljc36CqDt3atc7/6VfTXqXt351atCq4+AiwOlGcjLFkSfYcLhZy75Rbntm+PQbGG7N3r3IMPOnfaaZFft5QU5159tWqeqVZV27c798//HL1BPv985z75JOgq4092tnPnnRf5NatWzbmxY/2dm7FGgMWBsjZCYaFzd97pQyrSm6drV+c+/TSGxRr07bfODRgQvdHq18+5/Pygq0Rle+0155o2jfweqFfPuaee8nchIrKiIucmT47eA3T22T7oYokAiwPRNsI77/jrWexwFeP11/0twdH69J9+mrOxRLRli//IRbQDmGHD/Doon40by/6s6dChsesNIsDiwLEbYedO526+mR2uMhQWOnfvvdEvTl9+Odc+EsXhw87NmuVcw4aRt3Vmpr8WhpMzZ07068xNm/oz3spGgMXAm2++6c477zzXunVrN3HixFLLf7oR3njDudTUyG+KFi38Z1Vw6r78MvrdirVrO/f448HfYYWTl5/vu4Yjbd/kZOfuv9+5gweDrtK+PXv85yyjDShw9dWVe7BNgFWyQ4cOuVatWrnc3FxXVFTkOnbs6NasWfOzdSS57dudu+GG6Ddp3H67f7Og4hw65NzUqdFv8vjHf/RD7sCOw4ede+YZ3yUcaZt27hzsXXOJatkyP0RdpNe8YUPnXnihcrrnLQWYyXHGly1bptatW6tFixaqXr26rr32Ws2dO7fUehkZ0l/+Uvrn09L8hJPTph2dLBIVo1o1P2Dp6tXSJZeUXv7hh1LHjtIjj5Q9Gj7iw8aNUu/e0ogRpee6q1lTmjDBj8yeCBM5xpvzz/dzkt1/f+nBjLdvl4YM8QMeb94cTH3xwGSAbdq0Sc2bNz/y/9TUVG3atKnUesfOTpyUJN1zj7RypZ/qBJWnZUs/Ovef/lR69O0DB/x2uPDC8k1ciNg7fNiPFt+unZ9P7ljdu/vJUu+9N35Hik8ENWpI48b5IOvcufTyefP8gfqMGf7crKoxGWChk5jXo317f6Q4cWLFzdqKsoVC0s03S2vW+OlYjvXpp36nfPBBqbg49vUhsvXr/dnzbbdJhYU/X1arljRliu/BSE8Ppr6qqEMH335NmODPfH9q1y4/7UyfPsefaDPRmDx2SklJUV5e3pH/5+XlKTU1NcKa45SU5Kcb/4//CKtr13DMasRRqal+As1Zs6Tbb5d++OHosuJi6b77pFdflZ59NvJRJmKjpESaOlX6z//0Z8nHCoelp5+WWrWKeWmQP9O9996j86R9/PHPly9c6M+YH35Y+pd/Kf9EtDk5OcrJyanwemMi6ItwJ6O4uNi1bNnS5ebmuoMHD0a9iaNrV+e++CKgIhHRd985N3Bg9NEHfvvb+J4rKVF99ZUf0zLSdjn99PgYow9H/XizVLS5x3r0cG79+pP73ZZiwU6lx8jOznZpaWmuVatWbvz48aWWS3LFxQEUhnJ55RXnmjSJvPO1beuH+ULlKypy7g9/cK5Gjcjbondvm5NLVhVffx19MtpatZx79NETH5jBUoCFnEvMS3+mpsWuorZtk+6803ctHisU8sv+8AfptNNiX1tVsHKlNHy4//dY9er5a13Dhvltgfh1+LA0fbo0dqy0Z0/p5d26+e75jIzy/T5LbScBhsC9/rrvs490O3CrVv66Szgc87IS1sGD/sBg4sTIH2W48krpqaekM8+MfW04ed9+K/3mN9KCBaWX1ajhb8cfO1aqXr3s32Op7STAEBd27pTuvlt65pnIy2+5xV+cPvaWfJyYxYv9wcJf/1p6WaNG0hNPSFdfzVmXVc5JM2f63oudO0sv79TJ33LfqVP032Gp7TR5Gz0ST716/kxr4ULpnHNKL3/qKX/b9quvVs3Pu5yqbdt8d2E4HDm8Bg/2H3e45hrCy7JQyHf7rlnjz6SPtXKl1LWrPxM79iMSFnEGhrizZ4/029/6D9JG0qeP9PjjUuvWsa3LIuf8EffYsdKOHaWXn3mmPziI1NjBNuekl1/2n+fbtq308pQUPxrRgAE/P2ix1HYSYIhb77/vhzD6+uvSy2rW9CF3zz3SL34R+9osWL3aN17vvx95+YgR0qRJUv36sa0LsfX99354txdfjLy8d2/fdfzjAaGltpMuRMStHj2kVat8SB07XNHBg36InXbtpLlz6Vb8qe+/99cMO3WKHF6ZmX4kjaefJryqgsaNpRde8PvJT0bgO+Ktt/x+dN990t69sa/vVHAGBhPWrJFuvdXfhBBJOCxNnix16RLTsuJKUZHvdn3ggdID70p+GKj775dGj/Z3paHq2bvXD9326KOR70A96yxp82Y7bScBBjOc80eSY8aUHqj5RzfcID30UOQjzUTlnPTaa9K//7u0bl3kdfr29d1E554b29oQn9askUaNkiKPIGWn7aQLEWaEQtJ11/m76EaNijzW21/+4qfLufvu6CGXKJzzn/np2lUaNChyeLVp40csnz+f8MJRGRnSu+9Kzz8vNW0adDUnjzMwmPXll/7uukgf3JR8l9moUX6dJk1iW1tlck567z3fHfjhh5HXqVvXX9P413+luxBl271bGj/ej7xSVCRZOgMjwGDewoW+WzHa3GKnneandbn9dttnISUl0pw5/gPdn34aeZ2kJGnkSH+dI5FCG5Xv73/3B3uvvWan7STAkBBKSvznne67T/ruu8jrJCVJv/61dNddfkJGKx/Y3bXLjxc5daqfqyuaq67yN3AwTxdOhaW2kwBDQjlwwA9sOmFC9CCTpKwsPzLFkCFSw4axq+9EfPaZn9H6hRekffuir9e3rx/bMCsrdrUhcVlqOwkwJKT9+32QTZxYdpDVqOFHobjuOqlXr+Bn6/76a+mll6TZs6N3if6oXz8/weGFF8amNlQNltpOAgwJ7cABPwLBlCl+ZIqynHaaH5Wgf3/pssv8UDuVrbhYWrrUX8fLzpaWLy97/eRkH7Zjx/oPJAMVzVLbSYChSnBOeucdH2Rvvlm+kTvatJEuvtif4XTs6G89PtVhq7Ztkz7/XPrkE//44IPIczgdKyVFuukmf4NGLIIVVZeltpMAQ5WTl+ennJgxQ/rmm/L/XLVqPtRatPAj5jdv7kfRr1vXT/NSrZof3aCkxI948P33/lFQ4G++WLdO2r79xP5er15++pO+fUsPpwVUBkttJwGGKss5fwb0yiv+9vT8/KAr8ndGXnyxn9Zk4EA/jh0QS5baTgIMkA+zzz/3Qfbuu/5zVpHGiqsMjRv7M63evaWePaVmzWLzd4FILLWdBBgQwd690pIlfqSLlSv9qPgbN576761ZU2rbVvrlL48+2rWLPCwWEARLbScBBpTTzp1+tIKNG6Vvv5U2bfI3YOze7f91zl+nqlbN3+zRqJE/u2rc2I8AkpYmpab65UC8stR2EmAAgCMstZ10XAAATCLAAAAmEWAAAJMIMACASQQYAMAkAgwAYBIBBgAwiQADAJhEgAEATCLAAAAmEWAAAJMIMACASQQYAMAkAgwAYJK5ABs7dqzS09PVsWNHDRgwQLt27Qq6JABAAMwFWK9evfTVV19p1apVSktL04QJE4IuCQAQAHMB1rNnTyX9//zr3bp1U35+fsAVAQCCYC7AfurZZ59V3759gy4DABCA5KALiKRnz54qKCgo9f3x48erX79+kqSHHnpINWrU0JAhQ2JdHgAgDsRlgC1atKjM5X/+85+VnZ2td955p8z1xo0bd+TrcDiscDhcAdUBQOLIyclRTk5O0GWclJBzzgVdxIlYsGCBxowZo8WLF6tRo0ZR1wuFQjL21AAgcJbaTnMB1qZNGxUVFalBgwaSpO7du+uPf/xjqfUsbQQAiBeW2k5zAVZeljYCAMQLS22n6bsQAQBVFwEGADCJAAMAmESAAQBMIsAAACYRYAAAkwgwAIBJBBgAwCQCDABgEgEGADCJAAMAmESAAQBMIsAAACYRYAAAkwgwAIBJBBgAwCQCDABgEgEGADCJAAMAmESAAQBMIsAAACYRYAAAkwgwAIBJBBgAwCQCDABgEgEGADCJAAMAmESAAQBMIsAAACYRYAAAkwgwAIBJBBgAwCQCDABgEgEGADCJAAMAmESAAQBMMhtgjz76qJKSkrRjx46gSwEABMBkgOXl5WnRokU655xzgi4FABAQkwF211136ZFHHgm6DABAgMwF2Ny5c5WamqoOHToEXQoAIEDJQRcQSc+ePVVQUFDq+w899JAmTJighQsXHvmecy6WpQEA4kRcBtiiRYsifv/LL79Ubm6uOnbsKEnKz89Xly5dtGzZMjVp0qTU+uPGjTvydTgcVjgcroxyAcCsnJwc5eTkBF3GSQk5w6cw5557rj7//HM1aNCg1LJQKMTZGQCcIEttp7lrYD8VCoWCLgEAEBDTZ2BlsXQUAQDxwlLbafoMDABQdRFgAACTCDAAgEkEGADAJAIMAGASAQYAMIkAAwCYRIABAEwiwAAAJhFgAACTCDAAgEkEGADAJAIMAGASAQYAMIkAqwKszrZaGXgtjuK1OIrXwiYCrApg5zyK1+IoXoujeC1sIsAAACYRYAAAk0LOytzRJygUCgVdAgCYZCUWkoMuoLJY2QAAgJNDFyIAwCQCDABgUkIG2IIFC9S2bVu1adNGDz/8cNDlBCYvL0+XXHKJMjMz1a5dOz322GNBlxSokpISZWVlqV+/fkGXEqidO3dq0KBBSk9PV0ZGhpYuXRp0SYGZMGGCMjMz1b59ew0ZMkQHDx4MuqSYufHGG9W0aVO1b9/+yPd27Nihnj17Ki0tTb169dLOnTsDrPD4Ei7ASkpKdNttt2nBggVas2aNXnzxRa1duzbosgJRvXp1TZkyRV999ZWWLl2qJ598ssq+FpI0bdo0ZWRkVPkbfO644w717dtXa9eu1RdffKH09PSgSwrEhg0bNH36dC1fvlyrV69WSUmJZs+eHXRZMTN8+HAtWLDgZ9+bOHGievbsqXXr1umyyy7TxIkTA6qufBIuwJYtW6bWrVurRYsWql69uq699lrNnTs36LIC0axZM3Xq1EmSVKdOHaWnp2vz5s0BVxWM/Px8ZWdna+TIkVX6Bp9du3bpgw8+0I033ihJSk5O1hlnnBFwVcGoW7euqlevrn379unQoUPat2+fUlJSgi4rZi666CLVr1//Z9+bN2+ehg0bJkkaNmyY5syZE0Rp5ZZwAbZp0yY1b978yP9TU1O1adOmACuKDxs2bNCKFSvUrVu3oEsJxOjRozVp0iQlJSXcW/6E5ObmqnHjxho+fLg6d+6sm266Sfv27Qu6rEA0aNBAY8aM0dlnn62zzjpL9erV0+WXXx50WYHasmWLmjZtKklq2rSptmzZEnBFZUu4vbmqdw9FUlhYqEGDBmnatGmqU6dO0OXE3Pz589WkSRNlZWVV6bMvSTp06JCWL1+uW2+9VcuXL1ft2rXjvpuosnzzzTeaOnWqNmzYoM2bN6uwsFCzZs0Kuqy4EQqF4r49TbgAS0lJUV5e3pH/5+XlKTU1NcCKglVcXKyBAwfq+uuvV//+/YMuJxBLlizRvHnzdO6552rw4MF69913NXTo0KDLCkRqaqpSU1N1/vnnS5IGDRqk5cuXB1xVMD777DNdeOGFatiwoZKTkzVgwAAtWbIk6LIC1bRpUxUUFEiSvvvuOzVp0iTgisqWcAHWtWtXrV+/Xhs2bFBRUZFeeuklXXHFFUGXFQjnnEaMGKGMjAzdeeedQZcTmPHjxysvL0+5ubmaPXu2Lr30Us2cOTPosgLRrFkzNW/eXOvWrZMkvf3228rMzAy4qmC0bdtWS5cu1f79++Wc09tvv62MjIygywrUFVdcoeeee06S9Nxzz8X9QW/CjcSRnJysJ554Qr1791ZJSYlGjBhRZe+y+uijj/T888+rQ4cOysrKkuRvG+7Tp0/AlQUr3rtFKtvjjz+u6667TkVFRWrVqpVmzJgRdEmB6Nixo4YOHaquXbsqKSlJnTt31s033xx0WTEzePBgLV68WNu2bVPz5s31+9//Xvfee6+uvvpqPfPMM2rRooVefvnloMssU8KOhQgASGwJ14UIAKgaCDAAgEkEGADAJAIMAGASAQYAMIkAAwCYRIABAEwiwAAAJhFgAACTCDAAgEkEGADAJAIMAGASAQYAMIkAAwCYRIABAEwiwAAAJhFgAACTCDAAgEkEGADAJAIMAGASAQYAMIkAAwCYRIABAEz6PyfVjyxdcS2OAAAAAElFTkSuQmCC\"\n",
       "  frames[2] = \"data:image/png;base64,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\"\n",
       "  frames[3] = \"data:image/png;base64,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\"\n",
       "  frames[4] = \"data:image/png;base64,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\"\n",
       "\n",
       "\n",
       "    /* set a timeout to make sure all the above elements are created before\n",
       "       the object is initialized. */\n",
       "    setTimeout(function() {\n",
       "        animQACJPPYPVFTKYATS = new Animation(frames, img_id, slider_id, 200, loop_select_id);\n",
       "    }, 0);\n",
       "  })()\n",
       "</script>\n"
      ],
      "text/plain": [
       "<matplotlib.animation.FuncAnimation at 0x10c0d0290>"
      ]
     },
     "execution_count": 13,
     "metadata": {},
     "output_type": "execute_result"
    }
   ],
   "source": [
    "# JSAnimation import available at https://github.com/jakevdp/JSAnimation\n",
    "from JSAnimation import IPython_display\n",
    "from matplotlib import animation\n",
    "\n",
    "# create a simple animation\n",
    "fig = plt.figure()\n",
    "ax = plt.axes(xlim=(0, 10), ylim=(-5, 5))\n",
    "line, = ax.plot([], [], lw=4)\n",
    "\n",
    "x = np.linspace(0, 10, 1000)\n",
    "\n",
    "def init():\n",
    "    line.set_data([], [])\n",
    "    return line,\n",
    "\n",
    "def animate(i):\n",
    "    line.set_data(x, i  * np.sin(x))\n",
    "    return line,\n",
    "\n",
    "animation.FuncAnimation(fig, animate, init_func=init,\n",
    "                        frames=5, interval=200, blit=True)"
   ]
  },
  {
   "cell_type": "code",
   "execution_count": 7,
   "metadata": {
    "collapsed": true
   },
   "outputs": [],
   "source": [
    "x=2"
   ]
  },
  {
   "cell_type": "code",
   "execution_count": 8,
   "metadata": {
    "collapsed": false
   },
   "outputs": [
    {
     "data": {
      "text/plain": [
       "2"
      ]
     },
     "execution_count": 8,
     "metadata": {},
     "output_type": "execute_result"
    }
   ],
   "source": [
    "x"
   ]
  },
  {
   "cell_type": "code",
   "execution_count": 9,
   "metadata": {
    "collapsed": false
   },
   "outputs": [
    {
     "data": {
      "text/plain": [
       "(2,)"
      ]
     },
     "execution_count": 9,
     "metadata": {},
     "output_type": "execute_result"
    }
   ],
   "source": [
    "x,"
   ]
  },
  {
   "cell_type": "code",
   "execution_count": 10,
   "metadata": {
    "collapsed": false
   },
   "outputs": [
    {
     "data": {
      "text/plain": [
       "matplotlib.axes._subplots.AxesSubplot"
      ]
     },
     "execution_count": 10,
     "metadata": {},
     "output_type": "execute_result"
    }
   ],
   "source": [
    "type(ax)"
   ]
  },
  {
   "cell_type": "code",
   "execution_count": null,
   "metadata": {
    "collapsed": true
   },
   "outputs": [],
   "source": []
  }
 ],
 "metadata": {
  "kernelspec": {
   "display_name": "Python 2",
   "language": "python",
   "name": "python2"
  },
  "language_info": {
   "codemirror_mode": {
    "name": "ipython",
    "version": 2
   },
   "file_extension": ".py",
   "mimetype": "text/x-python",
   "name": "python",
   "nbconvert_exporter": "python",
   "pygments_lexer": "ipython2",
   "version": "2.7.10"
  },
  "nikola": {
   "category": "",
   "date": "2015-08-10 18:02:08 UTC+02:00",
   "description": "",
   "link": "",
   "slug": "fonctions-exponentielles",
   "tags": "",
   "title": "Fonctions exponentielles",
   "type": "text"
  }
 },
 "nbformat": 4,
 "nbformat_minor": 0
}
