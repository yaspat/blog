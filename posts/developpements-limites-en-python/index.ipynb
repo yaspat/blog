{
 "cells": [
  {
   "cell_type": "markdown",
   "metadata": {},
   "source": [
    "De quoi vous aider à vérifier vos calculs. Comme d'habitude, on commence par importer les modules utiles :"
   ]
  },
  {
   "cell_type": "code",
   "execution_count": 1,
   "metadata": {
    "collapsed": true
   },
   "outputs": [],
   "source": [
    "from sympy import *\n",
    "from sympy.interactive import printing # Pour avoir des belles sorties ...\n",
    "printing.init_printing(use_latex=True) # ... en LaTeX"
   ]
  },
  {
   "cell_type": "code",
   "execution_count": 2,
   "metadata": {
    "collapsed": true
   },
   "outputs": [],
   "source": [
    "x = symbols('x') # maintenant je peux utiliser la variable x pour mes calculs."
   ]
  },
  {
   "cell_type": "markdown",
   "metadata": {},
   "source": [
    "La fonction `series` fournit la série de Taylor-Mac Laurin de la fonction \n",
    "(rappel : c'est la partie principale du développement limité **au voisinage de ** $a=0$.)\n",
    "\n",
    "Par exemple, si je prends la fonction de l'exemple 18 du cours :\n",
    "\n",
    "$$ x\\mapsto f(x) = \\sqrt{1+\\ln(1+x)}$$\n",
    "\n",
    "Il me suffit simplement de  taper ceci :\n",
    "\n",
    "<!--TEASER_END-->"
   ]
  },
  {
   "cell_type": "code",
   "execution_count": 3,
   "metadata": {},
   "outputs": [
    {
     "data": {
      "image/png": "[encoded data removed]",
      "text/latex": [
       "$$1 + \\frac{x}{2} - \\frac{3 x^{2}}{8} + \\frac{17 x^{3}}{48} - \\frac{143 x^{4}}{384} + \\frac{1609 x^{5}}{3840} + \\mathcal{O}\\left(x^{6}\\right)$$"
      ],
      "text/plain": [
       "           2       3        4         5        \n",
       "    x   3⋅x    17⋅x    143⋅x    1609⋅x     ⎛ 6⎞\n",
       "1 + ─ - ──── + ───── - ────── + ─────── + O⎝x ⎠\n",
       "    2    8       48     384       3840         "
      ]
     },
     "execution_count": 3,
     "metadata": {},
     "output_type": "execute_result"
    }
   ],
   "source": [
    "series(sqrt(1+log(1+x)),x)"
   ]
  },
  {
   "cell_type": "markdown",
   "metadata": {},
   "source": [
    "Des remarques :\n",
    "\n",
    "1. Par défaut, comme dit plus haut, les développements limités sont donnés au voisiange de $a=0$.\n",
    "1. Par défaut, la partie régulière du développemement limité est celle à d'ordre 5.\n",
    "2. Le terme résiduel n'est pas noté $o(x^5)$ comme vous pouvez le constater, mais $\\mathcal O(x^6)$. Cette notation (qui s'appelle, vous l'aurez deviné, *grand O*) signifie : \"il existe un coefficient d'ordre 6, mais je ne l'écris pas\" (c'est donc plus précis que $o(x^5)$)."
   ]
  },
  {
   "cell_type": "markdown",
   "metadata": {},
   "source": [
    "Si je veux un DL de la fonction $t\\mapsto \\sqrt t$ à l'ordre 2 en $a=3$ comme fait en cours, je tape :"
   ]
  },
  {
   "cell_type": "code",
   "execution_count": 4,
   "metadata": {},
   "outputs": [
    {
     "data": {
      "image/png": "[encoded data removed]",
      "text/latex": [
       "$$\\sqrt{3} + \\frac{\\sqrt{3}}{6} \\left(x - 3\\right) - \\frac{\\sqrt{3}}{72} \\left(x - 3\\right)^{2} + \\mathcal{O}\\left(\\left(x - 3\\right)^{3}; x\\rightarrow3\\right)$$"
      ],
      "text/plain": [
       "          ___             ___        2                     \n",
       "  ___   ╲╱ 3 ⋅(x - 3)   ╲╱ 3 ⋅(x - 3)     ⎛       3       ⎞\n",
       "╲╱ 3  + ───────────── - ────────────── + O⎝(x - 3) ; x → 3⎠\n",
       "              6               72                           "
      ]
     },
     "execution_count": 4,
     "metadata": {},
     "output_type": "execute_result"
    }
   ],
   "source": [
    "a = 3\n",
    "n = 2\n",
    "series(sqrt(x),x,a,n+1) "
   ]
  },
  {
   "cell_type": "markdown",
   "metadata": {},
   "source": [
    "Remarquez bien que pour avoir un DL$_n$, on spécifie dans `series` l'ordre $n+1$.\n",
    "\n",
    "À vous de jouer pour vérifer vos DL !"
   ]
  }
 ],
 "metadata": {
  "hide_input": false,
  "kernelspec": {
   "display_name": "Python 2",
   "language": "python",
   "name": "python2"
  },
  "language_info": {
   "codemirror_mode": {
    "name": "ipython",
    "version": 2
   },
   "file_extension": ".py",
   "mimetype": "text/x-python",
   "name": "python",
   "nbconvert_exporter": "python",
   "pygments_lexer": "ipython2",
   "version": "2.7.13"
  },
  "latex_envs": {
   "LaTeX_envs_menu_present": true,
   "autocomplete": true,
   "bibliofile": "biblio.bib",
   "cite_by": "apalike",
   "current_citInitial": 1,
   "eqLabelWithNumbers": true,
   "eqNumInitial": 1,
   "hotkeys": {
    "equation": "ctrl-c,ctrl-c"
   },
   "labels_anchors": false,
   "latex_user_defs": false,
   "report_style_numbering": false,
   "user_envs_cfg": true
  },
  "nikola": {
   "category": "",
   "date": "2016-05-20 11:45:32 UTC+02:00",
   "description": "",
   "link": "",
   "slug": "developpements-limites-en-python",
   "tags": "",
   "title": "Développements limités en Python",
   "type": "text"
  },
  "toc": {
   "nav_menu": {},
   "number_sections": true,
   "sideBar": true,
   "skip_h1_title": false,
   "title_cell": "Table of Contents",
   "title_sidebar": "Plan",
   "toc_cell": false,
   "toc_position": {},
   "toc_section_display": true,
   "toc_window_display": true
  },
  "varInspector": {
   "cols": {
    "lenName": 16,
    "lenType": 16,
    "lenVar": 40
   },
   "kernels_config": {
    "python": {
     "delete_cmd_postfix": "",
     "delete_cmd_prefix": "del ",
     "library": "var_list.py",
     "varRefreshCmd": "print(var_dic_list())"
    },
    "r": {
     "delete_cmd_postfix": ") ",
     "delete_cmd_prefix": "rm(",
     "library": "var_list.r",
     "varRefreshCmd": "cat(var_dic_list()) "
    }
   },
   "types_to_exclude": [
    "module",
    "function",
    "builtin_function_or_method",
    "instance",
    "_Feature"
   ],
   "window_display": false
  }
 },
 "nbformat": 4,
 "nbformat_minor": 1
}
