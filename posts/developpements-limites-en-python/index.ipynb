{
 "cells": [
  {
   "cell_type": "markdown",
   "metadata": {},
   "source": [
    "De quoi vous aider à vérifier vos calculs. Comme d'habitude, on commence par importer les modules utiles :"
   ]
  },
  {
   "cell_type": "code",
   "execution_count": 6,
   "metadata": {
    "collapsed": true
   },
   "outputs": [],
   "source": [
    "from sympy import *\n",
    "from sympy.interactive import printing # Pour avoir des belles sorties ...\n",
    "printing.init_printing(use_latex=True) # ... en LaTeX"
   ]
  },
  {
   "cell_type": "code",
   "execution_count": 7,
   "metadata": {
    "collapsed": true
   },
   "outputs": [],
   "source": [
    "x = symbols('x') # maintenant je peux utiliser la variable x pour mes calculs."
   ]
  },
  {
   "cell_type": "markdown",
   "metadata": {},
   "source": [
    "La fonction `series` fournit la série de Taylor-Mac Laurin de la fonction \n",
    "(rappel : c'est la partie principale du développement limité **au voisinage de ** $a=0$.)\n",
    "\n",
    "Par exemple, si je prends la fonction de l'exemple 18 du cours :\n",
    "\n",
    "$$ x\\mapsto f(x) = \\sqrt{1+\\ln(1+x)}$$\n",
    "\n",
    "Il me suffit simplement de  taper ceci :\n",
    "\n",
    "<!--TEASER_END-->"
   ]
  },
  {
   "cell_type": "code",
   "execution_count": 14,
   "metadata": {
    "collapsed": false
   },
   "outputs": [
    {
     "data": {
      "text/plain": [
       "1 + x/2 - 3*x**2/8 + 17*x**3/48 - 143*x**4/384 + 1609*x**5/3840 + O(x**6)"
      ]
     },
     "execution_count": 14,
     "metadata": {},
     "output_type": "execute_result"
    }
   ],
   "source": [
    "series(sqrt(1+log(1+x)),x)"
   ]
  },
  {
   "cell_type": "markdown",
   "metadata": {},
   "source": [
    "Des remarques :\n",
    "\n",
    "1. Par défaut, comme dit plus haut, les développements limités sont donnés au voisiange de $a=0$.\n",
    "1. Par défaut, la partie régulière du développemement limité est celle à d'ordre 5.\n",
    "2. Le terme résiduel n'est pas noté $o(x^5)$ comme vous pouvez le constater, mais $\\mathcal O(x^6)$. Cette notation (qui s'appelle, vous l'aurez deviné, *grand O*) signifie : \"il existe un coefficient d'ordre 6, mais je ne l'écris pas\" (c'est donc plus précis que $o(x^5)$)."
   ]
  },
  {
   "cell_type": "markdown",
   "metadata": {},
   "source": [
    "Si je veux un DL de la fonction $t\\mapsto \\sqrt t$ à l'ordre 2 en $a=3$ comme fait en cours, je tape :"
   ]
  },
  {
   "cell_type": "code",
   "execution_count": 9,
   "metadata": {
    "collapsed": false
   },
   "outputs": [
    {
     "data": {
      "text/plain": [
       "sqrt(3) + sqrt(3)*(x - 3)/6 - sqrt(3)*(x - 3)**2/72 + O((x - 3)**3, (x, 3))"
      ]
     },
     "execution_count": 9,
     "metadata": {},
     "output_type": "execute_result"
    }
   ],
   "source": [
    "a = 3\n",
    "n = 2\n",
    "series(sqrt(x),x,a,n+1) "
   ]
  },
  {
   "cell_type": "markdown",
   "metadata": {},
   "source": [
    "Remarquez bien que pour avoir un DL$_n$, on spécifie dans `series` l'ordre $n+1$.\n",
    "\n",
    "À vous de jouer pour vérifer vos DL !"
   ]
  }
 ],
 "metadata": {
  "kernelspec": {
   "display_name": "Python 2",
   "language": "python",
   "name": "python2"
  },
  "language_info": {
   "codemirror_mode": {
    "name": "ipython",
    "version": 2
   },
   "file_extension": ".py",
   "mimetype": "text/x-python",
   "name": "python",
   "nbconvert_exporter": "python",
   "pygments_lexer": "ipython2",
   "version": "2.7.11"
  },
  "nikola": {
   "category": "",
   "date": "2016-05-20 11:45:32 UTC+02:00",
   "description": "",
   "link": "",
   "slug": "developpements-limites-en-python",
   "tags": "",
   "title": "Développements limités en Python",
   "type": "text"
  }
 },
 "nbformat": 4,
 "nbformat_minor": 0
}
