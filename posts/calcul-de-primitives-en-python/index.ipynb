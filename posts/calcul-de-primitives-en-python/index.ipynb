{
 "cells": [
  {
   "cell_type": "markdown",
   "metadata": {},
   "source": [
    "Un des points forts de `Python` est l'existence de nombreux modules qui permettent de faire à peu près ce qu'on veut. Ce qui veut dire en particulier qu'avant de chercher à programmer le bidule de vos rêves, regardez si quelqu'un ne l'a pas fait avant vous.\n",
    "\n",
    "\n",
    "\n",
    "Par exemple, `Python` possède un module permettant de faire du calcul symbolique (c'est-à-dire avec des variables, comme vous le faites à la main!), c'est le module `sympy`. Et `sympy`, c'est sympa. Vous voulez voir ?\n",
    "\n",
    "\n",
    "<!-- TEASER_END -->\n",
    "\n",
    "\n",
    "## Imporation des modules utiles\n",
    "\n"
   ]
  },
  {
   "cell_type": "code",
   "execution_count": 6,
   "metadata": {
    "collapsed": true
   },
   "outputs": [],
   "source": [
    "from sympy import *\n",
    "from sympy.interactive import printing # Pour avoir des belles sorties ...\n",
    "printing.init_printing(use_latex=True) # ... en LaTeX\n"
   ]
  },
  {
   "cell_type": "markdown",
   "metadata": {},
   "source": [
    "##C'est parti"
   ]
  },
  {
   "cell_type": "code",
   "execution_count": 7,
   "metadata": {
    "collapsed": false
   },
   "outputs": [],
   "source": [
    "x = symbols('x') # maintenant je peux utiliser la variable x pour mes calculs."
   ]
  },
  {
   "cell_type": "markdown",
   "metadata": {},
   "source": [
    "Mettons que je cherche une primitive de $x\\mapsto \\sqrt{x+2}$ (vous devez savoir faire sans la machine !) "
   ]
  },
  {
   "cell_type": "code",
   "execution_count": 8,
   "metadata": {
    "collapsed": false
   },
   "outputs": [],
   "source": [
    "\n",
    "F = integrate(sqrt(x+2),x)"
   ]
  },
  {
   "cell_type": "code",
   "execution_count": 9,
   "metadata": {
    "collapsed": false
   },
   "outputs": [
    {
     "name": "stdout",
     "output_type": "stream",
     "text": [
      "2*(x + 2)**(3/2)/3\n"
     ]
    }
   ],
   "source": [
    "print(F)"
   ]
  },
  {
   "cell_type": "markdown",
   "metadata": {},
   "source": [
    "C'est pas très joli comme cela, mais en utilisant la commande `display` : "
   ]
  },
  {
   "cell_type": "markdown",
   "metadata": {},
   "source": [
    "Vous serez bien tentés de vérifier vos primitives du **DM3** non ?"
   ]
  },
  {
   "cell_type": "code",
   "execution_count": 10,
   "metadata": {
    "collapsed": false
   },
   "outputs": [
    {
     "data": {
      "image/png": "[encoded data removed]",
      "text/latex": [
       "$$\\frac{2}{3} \\left(x + 2\\right)^{\\frac{3}{2}}$$"
      ],
      "text/plain": [
       "         3/2\n",
       "2⋅(x + 2)   \n",
       "────────────\n",
       "     3      "
      ]
     },
     "metadata": {},
     "output_type": "display_data"
    }
   ],
   "source": [
    "from IPython.display import display\n",
    "display(F)"
   ]
  },
  {
   "cell_type": "markdown",
   "metadata": {},
   "source": [
    "**Remarque** Vous pouvez utiliser la commande `simplify` pour réarranger les termes de votre calcul."
   ]
  }
 ],
 "metadata": {
  "kernelspec": {
   "display_name": "Python 2",
   "language": "python",
   "name": "python2"
  },
  "language_info": {
   "codemirror_mode": {
    "name": "ipython",
    "version": 2
   },
   "file_extension": ".py",
   "mimetype": "text/x-python",
   "name": "python",
   "nbconvert_exporter": "python",
   "pygments_lexer": "ipython2",
   "version": "2.7.10"
  }
 },
 "nbformat": 4,
 "nbformat_minor": 0
}
