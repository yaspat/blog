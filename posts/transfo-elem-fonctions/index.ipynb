{
 "cells": [
  {
   "cell_type": "markdown",
   "metadata": {},
   "source": [
    "Rappel : étant donnée une fonction $f$ définie sur son domaine de définition $D_f$, on a vu  les opérations suivantes :   <!-- TEASER_END -->\n",
    "\n",
    ">1. Dépahsage de $x_0$  : c'est la fonction $g$ définie par $g(x) = f(x-x_0)$ et vous devez savoir préciser le domaine de $g$ en fonction de celui de $f$.\n",
    "2. Translation de $y_0$ : c'est la fonction $h$ définie par $h(x) = f(x) +y_0$ qui a le même domaine que $f$.\n",
    "3. Réflexion suivant les entrées : c'est la fonction $j$ définie par $j(x) = f(-x)$ et vous devez savoir préciser son domaine en fonction de celui de $f$.\n",
    "4. Réflexion suivant les sorties : c'est la fonction $k$ définie par $k(x) = -f(x)$ et\n",
    "son domaine est le même que celui de $f$.\n",
    "\n",
    "Vous devez savoir déduire de la courbe de $f$ les courbes des fonctions $g,h,j,k$\n"
   ]
  },
  {
   "cell_type": "markdown",
   "metadata": {},
   "source": [
    "Cliquez sur l'image ci-desous pour voir les courbes :\n",
    "<a title=\"View with the Desmos Graphing Calculator\" href=\"https://www.desmos.com/calculator/drdgxlklhu\">  <img src=\"https://s3.amazonaws.com/calc_thumbs/production/drdgxlklhu.png\" width=\"200px\" height=\"200px\"     style=\"border:1px solid #ccc; border-radius:5px\"  /></a>\n",
    "\n",
    "C'est tout pour ce billet !"
   ]
  }
 ],
 "metadata": {
  "kernelspec": {
   "display_name": "Python 2",
   "language": "python",
   "name": "python2"
  },
  "language_info": {
   "codemirror_mode": {
    "name": "ipython",
    "version": 2
   },
   "file_extension": ".py",
   "mimetype": "text/x-python",
   "name": "python",
   "nbconvert_exporter": "python",
   "pygments_lexer": "ipython2",
   "version": "2.7.10"
  }
 },
 "nbformat": 4,
 "nbformat_minor": 0
}
