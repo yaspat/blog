{
 "cells": [
  {
   "cell_type": "markdown",
   "metadata": {},
   "source": [
    "Allez voir tout simplement en cliquant sur l'image ci-desous :\n",
    "\n",
    "<a title=\"Vers l'animation\" href=\"https://www.desmos.com/calculator/c87ofjpgin\">  <img src=\"https://s3.amazonaws.com/calc_thumbs/production/c87ofjpgin.png\" width=\"200px\" height=\"200px\"     style=\"border:1px solid #ccc; border-radius:5px\"  /></a>`\n",
    "\n",
    "C'est tout pour ce billet !"
   ]
  }
 ],
 "metadata": {
  "kernelspec": {
   "display_name": "Python 2",
   "language": "python",
   "name": "python2"
  },
  "language_info": {
   "codemirror_mode": {
    "name": "ipython",
    "version": 2
   },
   "file_extension": ".py",
   "mimetype": "text/x-python",
   "name": "python",
   "nbconvert_exporter": "python",
   "pygments_lexer": "ipython2",
   "version": "2.7.10"
  }
 },
 "nbformat": 4,
 "nbformat_minor": 0
}
