{
 "cells": [
  {
   "cell_type": "code",
   "execution_count": 1,
   "metadata": {
    "collapsed": false
   },
   "outputs": [
    {
     "name": "stdout",
     "output_type": "stream",
     "text": [
      "/Users/Yas/Dropbox/IPythonNotebookFiles\n"
     ]
    }
   ],
   "source": [
    "cd ~/Dropbox/IPythonNotebookFiles/"
   ]
  },
  {
   "cell_type": "code",
   "execution_count": 2,
   "metadata": {
    "collapsed": false
   },
   "outputs": [
    {
     "name": "stdout",
     "output_type": "stream",
     "text": [
      "\u001b[34mEssaiAnimations\u001b[m\u001b[m/\r\n",
      "Installation diaporama.ipynb\r\n",
      "Methode d'Euler et equations differnetielles.ipynb\r\n",
      "\u001b[34mMethode d'Euler et equations differnetielles_files\u001b[m\u001b[m/\r\n",
      "TestLatexizeNotebook.ipynb\r\n",
      "TestLatexizeNotebook.pdf\r\n",
      "TestLatexizeNotebook.slides.html\r\n",
      "TestLatexizeNotebook.tex\r\n",
      "\u001b[34mTestLatexizeNotebook_files\u001b[m\u001b[m/\r\n",
      "Untitled0.ipynb\r\n"
     ]
    }
   ],
   "source": [
    "ls"
   ]
  },
  {
   "cell_type": "code",
   "execution_count": 3,
   "metadata": {
    "collapsed": false
   },
   "outputs": [
    {
     "name": "stdout",
     "output_type": "stream",
     "text": [
      "Downloading mathjax source from https://github.com/mathjax/MathJax/archive/2.4.0.tar.gz\n",
      "Extracting to /Users/Yas/.ipython/nbextensions/mathjax\n"
     ]
    },
    {
     "data": {
      "text/plain": [
       "0"
      ]
     },
     "execution_count": 3,
     "metadata": {},
     "output_type": "execute_result"
    }
   ],
   "source": [
    "from IPython.external import mathjax; mathjax.install_mathjax()"
   ]
  },
  {
   "cell_type": "code",
   "execution_count": 1,
   "metadata": {
    "collapsed": false
   },
   "outputs": [
    {
     "ename": "NameError",
     "evalue": "name 'IPython' is not defined",
     "output_type": "error",
     "traceback": [
      "\u001b[0;31m---------------------------------------------------------------------------\u001b[0m",
      "\u001b[0;31mNameError\u001b[0m                                 Traceback (most recent call last)",
      "\u001b[0;32m<ipython-input-1-d59461fe5c6e>\u001b[0m in \u001b[0;36m<module>\u001b[0;34m()\u001b[0m\n\u001b[0;32m----> 1\u001b[0;31m \u001b[0mIPython\u001b[0m\u001b[0;34m.\u001b[0m\u001b[0mtoolbar\u001b[0m\u001b[0;34m.\u001b[0m\u001b[0madd\u001b[0m\u001b[0;34m\u001b[0m\u001b[0m\n\u001b[0m",
      "\u001b[0;31mNameError\u001b[0m: name 'IPython' is not defined"
     ]
    }
   ],
   "source": [
    "IPython.toolbar.add"
   ]
  },
  {
   "cell_type": "code",
   "execution_count": null,
   "metadata": {
    "collapsed": true
   },
   "outputs": [],
   "source": []
  }
 ],
 "metadata": {
  "kernelspec": {
   "display_name": "Python 2",
   "language": "python",
   "name": "python2"
  },
  "language_info": {
   "codemirror_mode": {
    "name": "ipython",
    "version": 2
   },
   "file_extension": ".py",
   "mimetype": "text/x-python",
   "name": "python",
   "nbconvert_exporter": "python",
   "pygments_lexer": "ipython2",
   "version": "2.7.10"
  },
  "nikola": {
   "category": "",
   "date": "2015-10-02 14:50:49 UTC+02:00",
   "description": "",
   "link": "",
   "slug": "essait-dimportation-dun-ipynb",
   "tags": "",
   "title": "essait d'importation d'un ipynb",
   "type": "text"
  }
 },
 "nbformat": 4,
 "nbformat_minor": 0
}
