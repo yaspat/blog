{
 "cells": [
  {
   "cell_type": "markdown",
   "metadata": {},
   "source": [
    "Si tu es en train de lire ce billet, c'est que tu as probablement l'intention de faire une spé à la rentrée. Alors avant tout, félicitations pour ton passage en spé, c'était quand même pas si facile que ça, d'autant qu'il faut travailler les SVT, la géologie, mais aussi la chimie, la physique et enfin les maths et l'info. Et autant dire que pour ces deux dernières matières, on a du mal à se dire qu'on en ferait autant en BCPST.\n",
    "Alors je vais essayer de mettre en ligne sur ce blog tout au long de l'été des choses à faire pour bien commencer l'année de spé, d'autant qu'il faut savoir que :\n",
    "\n",
    "<!-- TEASER_END -->\n",
    "\n",
    "1. L'année de spé va **beaucoup plus vite** que celle de sup (je vous jure que c'est possible !) : seulement 22 semaines de cours.\n",
    "2. Les épreuves de concours peuvent porter sur un thème de la sup. Par exemple, l'épreuve de physique-chimie (analyse de documents) portait sur le programme de première année.\n",
    "3. Les contenus de spé en maths reposent sur une bonne connaissance des notions de première année et d'une bonne méthode de travail."
   ]
  },
  {
   "cell_type": "markdown",
   "metadata": {},
   "source": [
    "Alors, sans vouloir passer tout l'été à refaire l'année de sup, je vais essayer de mettre le minimum du minimum vital\n",
    "qu'**on n'a pas le droit d'ignorer** pour mener une année de spé convenable en maths.\n",
    "\n",
    "Bon courage à tous, et à suivre !"
   ]
  }
 ],
 "metadata": {
  "hide_input": false,
  "kernelspec": {
   "display_name": "Python 3",
   "language": "python",
   "name": "python3"
  },
  "language_info": {
   "codemirror_mode": {
    "name": "ipython",
    "version": 3
   },
   "file_extension": ".py",
   "mimetype": "text/x-python",
   "name": "python",
   "nbconvert_exporter": "python",
   "pygments_lexer": "ipython3",
   "version": "3.6.3"
  },
  "latex_envs": {
   "LaTeX_envs_menu_present": true,
   "autocomplete": true,
   "bibliofile": "biblio.bib",
   "cite_by": "apalike",
   "current_citInitial": 1,
   "eqLabelWithNumbers": true,
   "eqNumInitial": 1,
   "hotkeys": {
    "equation": "ctrl-c,ctrl-c"
   },
   "labels_anchors": false,
   "latex_user_defs": false,
   "report_style_numbering": false,
   "user_envs_cfg": true
  },
  "toc": {
   "nav_menu": {},
   "number_sections": true,
   "sideBar": true,
   "skip_h1_title": false,
   "title_cell": "Table of Contents",
   "title_sidebar": "Plan",
   "toc_cell": false,
   "toc_position": {},
   "toc_section_display": true,
   "toc_window_display": true
  },
  "varInspector": {
   "cols": {
    "lenName": 16,
    "lenType": 16,
    "lenVar": 40
   },
   "kernels_config": {
    "python": {
     "delete_cmd_postfix": "",
     "delete_cmd_prefix": "del ",
     "library": "var_list.py",
     "varRefreshCmd": "print(var_dic_list())"
    },
    "r": {
     "delete_cmd_postfix": ") ",
     "delete_cmd_prefix": "rm(",
     "library": "var_list.r",
     "varRefreshCmd": "cat(var_dic_list()) "
    }
   },
   "types_to_exclude": [
    "module",
    "function",
    "builtin_function_or_method",
    "instance",
    "_Feature"
   ],
   "window_display": false
  }
 },
 "nbformat": 4,
 "nbformat_minor": 2
}
