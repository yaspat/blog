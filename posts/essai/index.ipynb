{
 "cells": [
  {
   "cell_type": "markdown",
   "metadata": {
    "toc": "true"
   },
   "source": [
    "# Table of Contents\n",
    " <p><div class=\"lev1\"><a href=\"#Logique-élémentaire\"><span class=\"toc-item-num\">1&nbsp;&nbsp;</span>Logique élémentaire</a></div><div class=\"lev2\"><a href=\"#Assertion\"><span class=\"toc-item-num\">1.1&nbsp;&nbsp;</span>Assertion</a></div><div class=\"lev2\"><a href=\"#Opérations-sur-les-assertions\"><span class=\"toc-item-num\">1.2&nbsp;&nbsp;</span>Opérations sur les assertions</a></div><div class=\"lev3\"><a href=\"#Disjonction\"><span class=\"toc-item-num\">1.2.1&nbsp;&nbsp;</span>Disjonction</a></div><div class=\"lev3\"><a href=\"#Conjonction\"><span class=\"toc-item-num\">1.2.2&nbsp;&nbsp;</span>Conjonction</a></div><div class=\"lev3\"><a href=\"#Négation\"><span class=\"toc-item-num\">1.2.3&nbsp;&nbsp;</span>Négation</a></div>"
   ]
  },
  {
   "cell_type": "code",
   "execution_count": 5,
   "metadata": {
    "collapsed": false,
    "slideshow": {
     "slide_type": "slide"
    }
   },
   "outputs": [],
   "source": [
    "from sympy import * # importation du calcul symbolique\n",
    "import pylab as py  # importation du calcul numérique, matriciel, des commandes graphiques\n",
    "%matplotlib inline  \n",
    "import matplotlib   # seulement pour un plus joli affichage\n",
    "matplotlib.style.use('ggplot')\n",
    "import matplotlib.pyplot as plt"
   ]
  },
  {
   "cell_type": "markdown",
   "metadata": {
    "slideshow": {
     "slide_type": "slide"
    }
   },
   "source": [
    "# Logique élémentaire\n",
    "\n",
    "## Assertion\n",
    "\n",
    "\n",
    "1. Un énoncé mathématique s'appelle une  *<span class=\"mark\">assertion*</span>.\n",
    "2. Une assertion est par définition soit vraie, soit fausse.\n",
    "\n"
   ]
  },
  {
   "cell_type": "markdown",
   "metadata": {
    "slideshow": {
     "slide_type": "slide"
    }
   },
   "source": [
    "\\begin{example}\n",
    "*Socrate est mortel.*\n",
    "\\end{example}"
   ]
  },
  {
   "cell_type": "code",
   "execution_count": null,
   "metadata": {
    "collapsed": false,
    "slideshow": {
     "slide_type": "slide"
    }
   },
   "outputs": [],
   "source": [
    "1+1 == 2"
   ]
  },
  {
   "cell_type": "code",
   "execution_count": null,
   "metadata": {
    "collapsed": false,
    "slideshow": {
     "slide_type": "slide"
    }
   },
   "outputs": [],
   "source": [
    "2 > 4"
   ]
  },
  {
   "cell_type": "markdown",
   "metadata": {
    "slideshow": {
     "slide_type": "slide"
    }
   },
   "source": [
    "## Opérations sur les assertions\n",
    "\n",
    "1. Partant d'assertions, on peut par opérations en générer de nouvelles.\n",
    "2. Connaissant les valeurs de vérité de ces premières assertions, on peut connaître la valeur de vérité des assertions générées par les opérations."
   ]
  },
  {
   "cell_type": "markdown",
   "metadata": {},
   "source": [
    "### Disjonction\n",
    "\n",
    "Si $P$ et $Q$ sont deux assertions, l'assertion [$P \\vee Q$] (lire \\og$P$ ou $Q$\\fg) est la disjonction des assertions $P$ et $Q$."
   ]
  },
  {
   "cell_type": "markdown",
   "metadata": {},
   "source": [
    "*Valeur de vérité de l'assertion $P\\vee Q$*\n",
    "\n",
    "|$Q$ \\ $P$| Vrai | Faux |\n",
    " |---------|------|------|\n",
    " |**Vrai** |   V    |   V |\n",
    " |**Faux** |   **F**   |  V  |\n",
    " "
   ]
  },
  {
   "cell_type": "markdown",
   "metadata": {},
   "source": [
    "On constate que l'assertion  $P\\vee Q$ est tout le temps vraie sauf si $P$ et $Q$  sont simultanément fausses.\n",
    "\n",
    "\n"
   ]
  },
  {
   "cell_type": "markdown",
   "metadata": {},
   "source": [
    "\\begin{example} (*opérateurs de comparaison*).\n",
    "\n",
    "Soit $x$, $y,$ deux réels.\n",
    "\n",
    "Notons $P$ l'assertion $ x < y$  \n",
    "Notons $Q$ l'assertion $ x= y $\n",
    "\n",
    "\n",
    "$P \\vee Q$ est l'assertion : $ x \\le y$. Elle est fausse si $x =y$ est fausse et $x<y$ est fausse.\n",
    "\\end{example}"
   ]
  },
  {
   "cell_type": "markdown",
   "metadata": {
    "slideshow": {
     "slide_type": "slide"
    }
   },
   "source": [
    "### Conjonction\n",
    "\n",
    "Si $P$ et $Q$ sont deux assertions, l'assertion [$P \\wedge Q$] (lire \\og$P$ et $Q$\\fg) est la conjonction des assertions $P$ et $Q$. \n"
   ]
  },
  {
   "cell_type": "markdown",
   "metadata": {
    "slideshow": {
     "slide_type": "subslide"
    }
   },
   "source": [
    "*Valeur de vérité de l'assertion $P\\wedge Q$*\n",
    "\n",
    "|$Q$ \\ $P$| Vrai | Faux |\n",
    " |---------|------|------|\n",
    " |**Vrai** |   **V**    |   F |\n",
    " |**Faux** |   F   |  F  |\n",
    " "
   ]
  },
  {
   "cell_type": "markdown",
   "metadata": {
    "slideshow": {
     "slide_type": "subslide"
    }
   },
   "source": [
    "On constate que l'assertion  $P\\wedge Q$ est tout le temps fausse sauf si $P$ et $Q$  sont simultanément vraies.\n"
   ]
  },
  {
   "cell_type": "markdown",
   "metadata": {
    "slideshow": {
     "slide_type": "subslide"
    }
   },
   "source": []
  },
  {
   "cell_type": "markdown",
   "metadata": {
    "slideshow": {
     "slide_type": "slide"
    }
   },
   "source": [
    "### Négation\n",
    "\n",
    "Soit $P$ une assertion. Sa négation est notée $\\rceil P$ (lire  : \\og non $P$\\fg).\n",
    "Par définition la valeur de vérité de $\\rceil P$ est déduite de celle de $P$ par le tableau suivant :\n",
    "\n",
    "|valeur de $P$ **:**| V | F |\n",
    "|---|---|---|\n",
    "|**valeur de** $\\rceil P$ **:**| **F** | **V** |\n",
    "\n",
    "\\begin{theorem}\n",
    "*(Principe du tiers exclu)* Une assertion $P$ et sa négation $\\rceil P$ ne sont jamais simultanément vraies.\n",
    "\\end{theorem}"
   ]
  },
  {
   "cell_type": "code",
   "execution_count": null,
   "metadata": {
    "collapsed": false,
    "slideshow": {
     "slide_type": "slide"
    }
   },
   "outputs": [],
   "source": [
    "P = (1+1==2)     # je construis une assertion P\n",
    "print(P, not P)  # valeurs de P et non P    \n",
    "P == (not P)     # Essayez avec P de votre choix"
   ]
  },
  {
   "cell_type": "markdown",
   "metadata": {
    "slideshow": {
     "slide_type": "slide"
    }
   },
   "source": [
    "\\begin{exercise}\n",
    "Dans chacun des cas suivants, écrire la négation de l'assertion $P$  suivante et écrire sa négation :\n",
    "\\end{exercise}"
   ]
  },
  {
   "cell_type": "code",
   "execution_count": null,
   "metadata": {
    "code_folding": [],
    "collapsed": false,
    "slideshow": {
     "slide_type": "slide"
    }
   },
   "outputs": [],
   "source": [
    "variables = list('abcdjkwxyztuvwpqrst')\n",
    "from IPython.display import display, Math, Latex\n",
    "import operator\n",
    "from random import choice\n",
    "\n",
    "operateurs = {operator.le:'\\le', operator.ge:r'\\ge',\n",
    "                  operator.eq:r'=',operator.lt:r'<', \n",
    "                  operator.gt:r'>', operator.ne:r'\\neq'}\n",
    "ops = [a for a in operateurs]                  \n",
    "latex_ops = [operateurs[cle] for cle in operateurs]\n",
    "negops=[  operator.ge,operator.eq,operator.ne,operator.lt,operator.gt,operator.le]\n",
    "latex_negops=[operateurs[cle] for cle in negops]\n",
    "\n",
    "a=''\n",
    "for i in range(10):\n",
    "    k = choice(range(5))\n",
    "    op = ops[k]\n",
    "    negop = negops[k]\n",
    "    x = choice(variables)\n",
    "    y = str(choice(range(9)))\n",
    "    latex_op = operateurs[op]\n",
    "    latex_negop=latex_negops[k]\n",
    "    a+='$'+latex_op+'$'\n",
    "    a+='$'+latex_negop+'$'"
   ]
  },
  {
   "cell_type": "code",
   "execution_count": null,
   "metadata": {
    "collapsed": false,
    "slideshow": {
     "slide_type": "slide"
    }
   },
   "outputs": [],
   "source": [
    "V  = (1+1==2)\n",
    "F  = (0==4)\n",
    "not V, not F"
   ]
  },
  {
   "cell_type": "markdown",
   "metadata": {
    "slideshow": {
     "slide_type": "slide"
    }
   },
   "source": [
    "\n",
    "Compléter le tableau ci-dessous : \n",
    "\n",
    "\n",
    " ![logochato](Pictures/Chato.jpg)"
   ]
  },
  {
   "cell_type": "code",
   "execution_count": 6,
   "metadata": {
    "collapsed": false,
    "scrolled": true,
    "slideshow": {
     "slide_type": "slide"
    }
   },
   "outputs": [
    {
     "data": {
      "text/plain": [
       "[<matplotlib.lines.Line2D at 0x110fa5748>]"
      ]
     },
     "execution_count": 6,
     "metadata": {},
     "output_type": "execute_result"
    },
    {
     "data": {
      "image/png": "[encoded data removed]",
      "text/plain": [
       "<matplotlib.figure.Figure at 0x110f382b0>"
      ]
     },
     "metadata": {},
     "output_type": "display_data"
    }
   ],
   "source": [
    "plt.plot(range(5),range(5))"
   ]
  },
  {
   "cell_type": "code",
   "execution_count": 14,
   "metadata": {
    "collapsed": false
   },
   "outputs": [
    {
     "data": {
      "application/javascript": [
       "function messager() {\n",
       "      var message = $('<div/>').append(\n",
       "                      $(\"<p/></p>\").addClass('dialog').html(\n",
       "                        \"Your ipynb-based site/blog post is being deployed now...\"\n",
       "                        )\n",
       "                    ).append(\n",
       "                      $(\"<p/></p>\").addClass('dialog').html(\n",
       "                        \"We clean (configurable), build and deploy your Nikola \" +\n",
       "                        \"site/blog for you!\"\n",
       "                        )\n",
       "                    );\n",
       "    \n",
       "      IPython.dialog.modal({\n",
       "        title : \"Nikola deployment\",\n",
       "        body : message,\n",
       "        buttons : {\n",
       "            OK : {class: \"btn-danger\"}\n",
       "        }\n",
       "      });\n",
       "    \n",
       "    }\n",
       "    \n",
       "    function nikolaDeploy(path, clean) {\n",
       "      IPython.notebook.kernel.execute('%bookmark root');\n",
       "      IPython.notebook.kernel.execute('%cd ' + path);\n",
       "      if (clean==\"True\") {\n",
       "        IPython.notebook.kernel.execute('!nikola clean');\n",
       "      }\n",
       "      IPython.notebook.kernel.execute('!nikola build');\n",
       "      IPython.notebook.kernel.execute('!nikola github_deploy');\n",
       "      IPython.notebook.kernel.execute('%cd -b root');\n",
       "      messager();\n",
       "    }\n",
       "    \n",
       "    define(function() {\n",
       "      return {\n",
       "        parameters: function setup(param1, param2) {\n",
       "          IPython.toolbar.add_buttons_group([\n",
       "            {\n",
       "            'label'   : 'Deploy Nikola site/blog',\n",
       "            'icon'    : 'icon-upload-alt',\n",
       "            'callback': function(){nikolaDeploy(param1, param2)},\n",
       "            'id'      : 'start_nikola_deploy'\n",
       "            },\n",
       "          ])\n",
       "        }\n",
       "      }\n",
       "    });"
      ],
      "text/plain": [
       "<IPython.core.display.Javascript object>"
      ]
     },
     "metadata": {},
     "output_type": "display_data"
    }
   ],
   "source": [
    "%%javascript\n",
    "function messager() {\n",
    "      var message = $('<div/>').append(\n",
    "                      $(\"<p/></p>\").addClass('dialog').html(\n",
    "                        \"Your ipynb-based site/blog post is being deployed now...\"\n",
    "                        )\n",
    "                    ).append(\n",
    "                      $(\"<p/></p>\").addClass('dialog').html(\n",
    "                        \"We clean (configurable), build and deploy your Nikola \" +\n",
    "                        \"site/blog for you!\"\n",
    "                        )\n",
    "                    );\n",
    "    \n",
    "      IPython.dialog.modal({\n",
    "        title : \"Nikola deployment\",\n",
    "        body : message,\n",
    "        buttons : {\n",
    "            OK : {class: \"btn-danger\"}\n",
    "        }\n",
    "      });\n",
    "    \n",
    "    }\n",
    "    \n",
    "    function nikolaDeploy(path, clean) {\n",
    "      IPython.notebook.kernel.execute('%bookmark root');\n",
    "      IPython.notebook.kernel.execute('%cd ' + path);\n",
    "      if (clean==\"True\") {\n",
    "        IPython.notebook.kernel.execute('!nikola clean');\n",
    "      }\n",
    "      IPython.notebook.kernel.execute('!nikola build');\n",
    "      IPython.notebook.kernel.execute('!nikola github_deploy');\n",
    "      IPython.notebook.kernel.execute('%cd -b root');\n",
    "      messager();\n",
    "    }\n",
    "    \n",
    "    define(function() {\n",
    "      return {\n",
    "        parameters: function setup(param1, param2) {\n",
    "          IPython.toolbar.add_buttons_group([\n",
    "            {\n",
    "            'label'   : 'Deploy Nikola site/blog',\n",
    "            'icon'    : 'icon-upload-alt',\n",
    "            'callback': function(){nikolaDeploy(param1, param2)},\n",
    "            'id'      : 'start_nikola_deploy'\n",
    "            },\n",
    "          ])\n",
    "        }\n",
    "      }\n",
    "    });"
   ]
  },
  {
   "cell_type": "code",
   "execution_count": null,
   "metadata": {
    "collapsed": true
   },
   "outputs": [],
   "source": []
  }
 ],
 "metadata": {
  "anaconda-cloud": {},
  "kernelspec": {
   "display_name": "Python 3",
   "language": "python",
   "name": "python3"
  },
  "language_info": {
   "codemirror_mode": {
    "name": "ipython",
    "version": 3
   },
   "file_extension": ".py",
   "mimetype": "text/x-python",
   "name": "python",
   "nbconvert_exporter": "python",
   "pygments_lexer": "ipython3",
   "version": "3.5.2"
  },
  "latex_envs": {
   "bibliofile": "biblio.bib",
   "cite_by": "apalike",
   "current_citInitial": 1,
   "eqLabelWithNumbers": true,
   "eqNumInitial": 0
  },
  "nav_menu": {},
  "toc": {
   "navigate_menu": true,
   "number_sections": true,
   "sideBar": true,
   "threshold": 6,
   "toc_cell": true,
   "toc_section_display": "none",
   "toc_window_display": false
  },
  "toc_position": {
   "height": "770px",
   "left": "0px",
   "right": "auto",
   "top": "130px",
   "width": "212px"
  }
 },
 "nbformat": 4,
 "nbformat_minor": 0
}
